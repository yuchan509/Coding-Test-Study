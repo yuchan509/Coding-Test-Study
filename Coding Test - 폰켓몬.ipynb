{
 "cells": [
  {
   "cell_type": "code",
   "execution_count": 1,
   "metadata": {},
   "outputs": [],
   "source": [
    "# 시간 초과.\n",
    "from itertools import combinations\n",
    "def solution(nums) :\n",
    "    res = []\n",
    "    for i in combinations(nums, int(len(nums) / 2)) :\n",
    "        res.append(list(set(i)))\n",
    "    ans = []    \n",
    "    for a in range(len(res)) :\n",
    "        ans.append(len(res[a]))\n",
    "    return max(ans)"
   ]
  },
  {
   "cell_type": "code",
   "execution_count": 2,
   "metadata": {},
   "outputs": [],
   "source": [
    "# 시간 초과.\n",
    "import time\n",
    "import collections\n",
    "def solution(nums) :\n",
    "    # start = time.time()\n",
    "    nums = collections.deque(nums)\n",
    "    result = []\n",
    "    for i in combinations(nums, int(len(nums) / 2)) :\n",
    "        result.append(len(set(i)))\n",
    "    # end = time.time()\n",
    "    # print(end - start)\n",
    "    return max(result)"
   ]
  },
  {
   "cell_type": "code",
   "execution_count": 3,
   "metadata": {},
   "outputs": [],
   "source": [
    "# 시간 초과.\n",
    "def combination(arr, n) : \n",
    "    result =[] \n",
    "    if n == 0 : \n",
    "        return [[]]  \n",
    "    for i in range(len(arr)) : \n",
    "        element  = arr[i] \n",
    "        rest_arr = arr[i + 1:] \n",
    "        for c in gen_combinations(rest_arr, n-1) : \n",
    "            result.append([element] + c) \n",
    "    return result\n",
    "\n",
    "def solution(nums) :\n",
    "    nums = collections.deque(nums)\n",
    "    result = []\n",
    "    for i in combination(nums, int(len(nums) / 2)) :\n",
    "        result.append(len(set(i)))\n",
    "    return max(result)"
   ]
  },
  {
   "cell_type": "code",
   "execution_count": 4,
   "metadata": {},
   "outputs": [],
   "source": [
    "def solution(nums) :\n",
    "    if len(list(set(nums))) > (len(nums) // 2) :\n",
    "        result = (len(nums) // 2)\n",
    "    else :\n",
    "        result = len(list(set(nums)))\n",
    "    return result"
   ]
  },
  {
   "cell_type": "code",
   "execution_count": 5,
   "metadata": {},
   "outputs": [],
   "source": [
    "# 다른 사람 풀이.\n",
    "def solution(nums) :\n",
    "    return min(len(nums) / 2, len(set(nums)))"
   ]
  },
  {
   "cell_type": "code",
   "execution_count": 6,
   "metadata": {},
   "outputs": [
    {
     "data": {
      "text/plain": [
       "2.0"
      ]
     },
     "execution_count": 6,
     "metadata": {},
     "output_type": "execute_result"
    }
   ],
   "source": [
    "# 2\n",
    "nums = [3,1,2,3]\n",
    "solution(nums)"
   ]
  },
  {
   "cell_type": "code",
   "execution_count": 7,
   "metadata": {},
   "outputs": [
    {
     "data": {
      "text/plain": [
       "3.0"
      ]
     },
     "execution_count": 7,
     "metadata": {},
     "output_type": "execute_result"
    }
   ],
   "source": [
    "# 3\n",
    "nums = [3,3,3,2,2,4]\n",
    "solution(nums)"
   ]
  }
 ],
 "metadata": {
  "kernelspec": {
   "display_name": "Python 3",
   "language": "python",
   "name": "python3"
  },
  "language_info": {
   "codemirror_mode": {
    "name": "ipython",
    "version": 3
   },
   "file_extension": ".py",
   "mimetype": "text/x-python",
   "name": "python",
   "nbconvert_exporter": "python",
   "pygments_lexer": "ipython3",
   "version": "3.7.6"
  }
 },
 "nbformat": 4,
 "nbformat_minor": 4
}
