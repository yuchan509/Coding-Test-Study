{
  "nbformat": 4,
  "nbformat_minor": 0,
  "metadata": {
    "colab": {
      "name": "Untitled1.ipynb",
      "provenance": []
    },
    "kernelspec": {
      "name": "python3",
      "display_name": "Python 3"
    },
    "language_info": {
      "name": "python"
    }
  },
  "cells": [
    {
      "cell_type": "markdown",
      "metadata": {
        "id": "vpcDaUVj96bJ"
      },
      "source": [
        "- 카카오는 하반기 경력 개발자 공개채용을 진행 중에 있으며 현재 지원서 접수와 코딩테스트가 \n",
        "- 종료되었습니다. 이번 채용에서 지원자는 지원서 작성 시 아래와 같이 4가지 항목을 반드시 선택하도록 하였습니다.\n",
        "- 코딩테스트 참여 개발언어 항목에 cpp, java, python 중 하나를 선택해야 합니다.\n",
        "- 지원 직군 항목에 backend와 frontend 중 하나를 선택해야 합니다.\n",
        "- 지원 경력구분 항목에 junior와 senior 중 하나를 선택해야 합니다.\n",
        "- 선호하는 소울푸드로 chicken과 pizza 중 하나를 선택해야 합니다.\n",
        "- 인재영입팀에 근무하고 있는 니니즈는 코딩테스트 결과를 분석하여 채용에 참여한 개발팀들에 제공하기 위해 지원자들의 지원 조건을 선택하면 해당 조건에 맞는 지원자가 몇 명인 지 쉽게 알 수 있는 도구를 만들고 있습니다.\n",
        "- 예를 들어, 개발팀에서 궁금해하는 문의사항은 다음과 같은 형태가 될 수 있습니다.\n",
        "- 코딩테스트에 java로 참여했으며, backend 직군을 선택했고, junior 경력이면서, 소울푸드로 pizza를 선택한 사람 중 코딩테스트 점수를 50점 이상 받은 지원자는 몇 명인가?\n",
        "- 물론 이 외에도 각 개발팀의 상황에 따라 아래와 같이 다양한 형태의 문의가 있을 수 있습니다.\n",
        "- 코딩테스트에 python으로 참여했으며, frontend 직군을 선택했고, senior 경력이면서, 소울푸드로 chicken을 선택한 사람 중 코딩테스트 점수를 100점 이상 받은 사람은 모두 몇 명인가?\n",
        "- 코딩테스트에 cpp로 참여했으며, senior 경력이면서, 소울푸드로 pizza를 선택한 사람 중 코딩테스트 점수를 100점 이상 받은 사람은 모두 몇 명인가?\n",
        "- backend 직군을 선택했고, senior 경력이면서 코딩테스트 점수를 200점 이상 받은 사람은 모두 몇 명인가?\n",
        "- 소울푸드로 chicken을 선택한 사람 중 코딩테스트 점수를 250점 이상 받은 사람은 모두 몇 명인가?\n",
        "- 코딩테스트 점수를 150점 이상 받은 사람은 모두 몇 명인가?\n",
        "- 즉, 개발팀에서 궁금해하는 내용은 다음과 같은 형태를 갖습니다.\n"
      ]
    },
    {
      "cell_type": "markdown",
      "metadata": {
        "id": "JmAhhxzy-ooE"
      },
      "source": [
        "def solution(info, query):\n",
        "    answer = []\n",
        "    return answer"
      ]
    },
    {
      "cell_type": "code",
      "metadata": {
        "id": "jvgNkr5l-qjZ"
      },
      "source": [
        "info = [\"java backend junior pizza 150\",\"python frontend senior chicken 210\",\"python frontend senior chicken 150\",\"cpp backend senior pizza 260\",\"java backend junior chicken 80\",\"python backend senior chicken 50\"]\n",
        "query= [\"java and backend and junior and pizza 100\",\"python and frontend and senior and chicken 200\",\"cpp and - and senior and pizza 250\",\"- and backend and senior and - 150\",\"- and - and - and chicken 100\",\"- and - and - and - 150\"]"
      ],
      "execution_count": 1,
      "outputs": []
    },
    {
      "cell_type": "code",
      "metadata": {
        "colab": {
          "base_uri": "https://localhost:8080/"
        },
        "id": "pEjNIwL49uo5",
        "outputId": "d4bc547b-6e1d-4d13-a471-db27c4d35e83"
      },
      "source": [
        " # 효율성이 통과되지 못한 코드.\n",
        " def solution(info, query) :\n",
        "    answer = []\n",
        "    for j in range(len(query)) :\n",
        "        n = 0\n",
        "        b = query[j].replace('and', '').split()\n",
        "        for fo in info :\n",
        "            a = fo.split()\n",
        "            cnt = 0\n",
        "            for i in range(4) :\n",
        "                if a[i] == b[i] or b[i] == '-' : cnt += 1\n",
        "                else : break\n",
        "            if cnt == 4 : \n",
        "              if int(a[-1]) >= int(b[-1]) : n += 1\n",
        "        answer.append(n)\n",
        "    return answer\n",
        "    \n",
        "solution(info, query)"
      ],
      "execution_count": 2,
      "outputs": [
        {
          "output_type": "execute_result",
          "data": {
            "text/plain": [
              "[1, 1, 1, 1, 2, 4]"
            ]
          },
          "metadata": {
            "tags": []
          },
          "execution_count": 2
        }
      ]
    },
    {
      "cell_type": "code",
      "metadata": {
        "colab": {
          "base_uri": "https://localhost:8080/"
        },
        "id": "inhrUHSSinfs",
        "outputId": "5bd1652b-9012-4aa0-95ef-7f81fe84e48c"
      },
      "source": [
        "from bisect import bisect_left\n",
        "from itertools import combinations\n",
        "from collections import defaultdict\n",
        "\n",
        "# 효율성 향상이 전혀 안되어 알아본 결과 --> dictionary의 효율성과 이진 탐색을 이용.\n",
        "def solution(info, query) :\n",
        "    answer = []\n",
        "    dic = defaultdict(list)\n",
        "    for fo in info :\n",
        "        a, b = fo.split()[:-1], int(fo.split()[-1])\n",
        "        for n in range(5) :\n",
        "            for k in list(combinations(a, n)) :\n",
        "                dic[''.join(k)] += [b]\n",
        "\n",
        "    for d in dic : dic[d].sort()\n",
        "\n",
        "    for q in query :\n",
        "        q, s = q.split()[:-1], q.split()[-1]\n",
        "        q = ''.join(q).replace('and', '').replace('-', '')\n",
        "        if q in dic : answer += [(len(dic[q]) - bisect_left(dic[q], int(s)))]\n",
        "        else : answer += [0]\n",
        "\n",
        "    return answer\n",
        "\n",
        "solution(info, query)"
      ],
      "execution_count": 3,
      "outputs": [
        {
          "output_type": "execute_result",
          "data": {
            "text/plain": [
              "[1, 1, 1, 1, 2, 4]"
            ]
          },
          "metadata": {
            "tags": []
          },
          "execution_count": 3
        }
      ]
    }
  ]
}