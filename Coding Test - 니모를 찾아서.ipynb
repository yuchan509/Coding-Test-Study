{
 "cells": [
  {
   "cell_type": "markdown",
   "id": "892b8485",
   "metadata": {},
   "source": [
    "- 영어 문장속 숨어있는 니모(Nemo)를 찾아보자. 니모를 찾는데 있어서 대소문자는 중요하지 않다.\n",
    "- 여러 문장이 각 줄로 입력되며, 입력의 마지막에는 \"EOI\" 입력된다. 한 줄은 최대 80개의 글자로 이루어져 있다.\n",
    "- 숨겨진 니모를 찾으면 “Found”, 못찾으면 “Missing”를 각 줄에 맞게 출력하면 된다."
   ]
  },
  {
   "cell_type": "code",
   "execution_count": 1,
   "id": "c8ce09b1",
   "metadata": {},
   "outputs": [
    {
     "name": "stdout",
     "output_type": "stream",
     "text": [
      "Marlin names this last egg Nemo, a name that Coral liked.\n",
      "Found\n",
      "While attempting to save nemo, Marlin meets Dory,\n",
      "Found\n",
      "a good-hearted and optimistic regal blue tang with short-term memory loss.\n",
      "Missing\n",
      "Upon leaving the East Australian Current,(888*%$^&%0928375)Marlin and Dory\n",
      "Missing\n",
      "NEMO leaves for school and Marlin watches NeMo swim away.\n",
      "Found\n",
      "EOI\n"
     ]
    }
   ],
   "source": [
    "while True :\n",
    "    text = input()\n",
    "    if text == 'EOI' : break\n",
    "    else : print('Found' if 'nemo' in text.lower() else 'Missing')"
   ]
  }
 ],
 "metadata": {
  "kernelspec": {
   "display_name": "Python 3",
   "language": "python",
   "name": "python3"
  },
  "language_info": {
   "codemirror_mode": {
    "name": "ipython",
    "version": 3
   },
   "file_extension": ".py",
   "mimetype": "text/x-python",
   "name": "python",
   "nbconvert_exporter": "python",
   "pygments_lexer": "ipython3",
   "version": "3.8.8"
  }
 },
 "nbformat": 4,
 "nbformat_minor": 5
}
