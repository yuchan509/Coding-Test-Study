{
 "cells": [
  {
   "cell_type": "code",
   "execution_count": 1,
   "id": "b2442afc",
   "metadata": {},
   "outputs": [
    {
     "data": {
      "text/plain": [
       "['AC', 'ACDE', 'BCFG', 'CDE']"
      ]
     },
     "execution_count": 1,
     "metadata": {},
     "output_type": "execute_result"
    }
   ],
   "source": [
    "from collections import Counter\n",
    "from itertools import combinations\n",
    "\n",
    "def solution(orders, course) :\n",
    "    L = []\n",
    "    n = max([len(i) for i in orders])\n",
    "    for m in range(n-1) :\n",
    "        for i in orders :\n",
    "            a = list(combinations((list(i)),m+2))\n",
    "            for j in a: \n",
    "                b = ''.join(list(sorted(j)))\n",
    "                L.append(b)\n",
    "    x = Counter(L)\n",
    "    answer = []\n",
    "    for c in course :\n",
    "        answer += [i for i, j in x.items() if len(i)==c and max({i : j for i, j in x.items() if len(i) == c}.values()) == j and j > 1]\n",
    "    return sorted(answer)\n",
    "\n",
    "solution([\"ABCFG\", \"AC\", \"CDE\", \"ACDE\", \"BCFG\", \"ACDEH\"], [2,3,4])"
   ]
  },
  {
   "cell_type": "code",
   "execution_count": 2,
   "id": "b46ede55",
   "metadata": {},
   "outputs": [
    {
     "data": {
      "text/plain": [
       "['ACD', 'AD', 'ADE', 'CD', 'XYZ']"
      ]
     },
     "execution_count": 2,
     "metadata": {},
     "output_type": "execute_result"
    }
   ],
   "source": [
    "solution([\"ABCDE\", \"AB\", \"CD\", \"ADE\", \"XYZ\", \"XYZ\", \"ACD\"], [2,3,5])"
   ]
  },
  {
   "cell_type": "code",
   "execution_count": 3,
   "id": "45780c64",
   "metadata": {},
   "outputs": [
    {
     "data": {
      "text/plain": [
       "['WX', 'XY']"
      ]
     },
     "execution_count": 3,
     "metadata": {},
     "output_type": "execute_result"
    }
   ],
   "source": [
    "solution([\"XYZ\", \"XWY\", \"WXA\"], [2,3,4])"
   ]
  }
 ],
 "metadata": {
  "kernelspec": {
   "display_name": "Python 3",
   "language": "python",
   "name": "python3"
  },
  "language_info": {
   "codemirror_mode": {
    "name": "ipython",
    "version": 3
   },
   "file_extension": ".py",
   "mimetype": "text/x-python",
   "name": "python",
   "nbconvert_exporter": "python",
   "pygments_lexer": "ipython3",
   "version": "3.8.8"
  }
 },
 "nbformat": 4,
 "nbformat_minor": 5
}
