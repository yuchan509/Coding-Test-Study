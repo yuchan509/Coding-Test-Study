{
 "cells": [
  {
   "cell_type": "markdown",
   "metadata": {},
   "source": [
    "- 베스킨라빈스 게임은 1부터 31까지의 수를 순차적으로 한번에 1개 이상, 3개 이하 연달아 부를 수 있으며, 마지막 31을 부른 사람이 지는 게임이다. 시온이와 민우는 베스킨라빈스 게임을 하기로 했지만 이 게임이 너무 유명한 나머지 시온이와 민우 모두 필승 방법을 알고 있었다. 평소에 항상 운이 없던 시온이는 가위바위보를 져 민우에게 선공을 빼았기게 되었고 이대로 게임을 한다면 질 수밖에 없는 상황이다. 그래서 시온이는 1개 이상, N개 이하의 수를 부를 수 있는 규칙의 게임으로 변형하자고 말하였고 민우도 수락했다. 이 경우 시온이가 게임을 이길 수 있는 모든 n(1 ≤ n ≤ A)을 출력하시오."
   ]
  },
  {
   "cell_type": "markdown",
   "metadata": {},
   "source": [
    "### 베스킨 라빈스 게임의 필승법\n",
    "#### n = 3인 경우 \n",
    "-  실수가 없다는 가정 아래 선공자가 반드시 이기게 되어있음.\n",
    "    - 1, **2**, 3, 4, 5, **6**, 7, 8, 9, **10**, 11, 12, 13, **14**, 15, 16, 17 **18**, 19, 20, 21, **22**, 23, 24, 25, **26**, 27, 28, 29, **30**\n",
    "    \n",
    "    - 30 - 7(3 + 1), 30 - 6(3 + 1), ......., 30 - (3 + 1), 30\n",
    "    - 나머지가 2인 경우.\n",
    "    - 일반화 : 30 % (n+1)를 부르는 사람이 이기게 되어 있음."
   ]
  },
  {
   "cell_type": "markdown",
   "metadata": {},
   "source": [
    "- 후공자가 30 % (n + 1)을 부르게 만드는 게임을 만들어야함.\n",
    "- 즉, 나머지가 0이 되도록 만들어야 함. "
   ]
  },
  {
   "cell_type": "code",
   "execution_count": 36,
   "metadata": {},
   "outputs": [
    {
     "name": "stdout",
     "output_type": "stream",
     "text": [
      "31\n",
      "1\n",
      "2\n",
      "4\n",
      "5\n",
      "9\n",
      "14\n",
      "29\n"
     ]
    }
   ],
   "source": [
    "n = int(input())\n",
    "for i in range(1, n + 1) :\n",
    "    if 30 % (i + 1) == 0 :\n",
    "        print(i)"
   ]
  }
 ],
 "metadata": {
  "kernelspec": {
   "display_name": "Python 3",
   "language": "python",
   "name": "python3"
  },
  "language_info": {
   "codemirror_mode": {
    "name": "ipython",
    "version": 3
   },
   "file_extension": ".py",
   "mimetype": "text/x-python",
   "name": "python",
   "nbconvert_exporter": "python",
   "pygments_lexer": "ipython3",
   "version": "3.8.5"
  }
 },
 "nbformat": 4,
 "nbformat_minor": 2
}
