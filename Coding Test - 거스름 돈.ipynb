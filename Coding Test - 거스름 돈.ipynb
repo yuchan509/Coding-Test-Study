{
 "cells": [
  {
   "cell_type": "markdown",
   "metadata": {},
   "source": [
    "- 카운터에는 거스름돈으로 사용할 500원, 100원, 50원, 10원짜리 동전이 무한히 존재한다고 가정합니다.\n",
    "- 손님에게 거슬러 주어야 할 돈이 N원일 때 거슬러 주어야 할 동전의 최소 개수를 구하시오.\n",
    "- 거슬러 줘야 할 돈 N은 항상 10의 배수이다."
   ]
  },
  {
   "cell_type": "code",
   "execution_count": 1,
   "metadata": {},
   "outputs": [],
   "source": [
    "def minCnt(money) :\n",
    "    m_500, m_rest = divmod(money, 500)\n",
    "    if m_rest != 0 :\n",
    "        m_100, m_rest2 = divmod(m_rest, 100)\n",
    "        if m_rest2 != 0 :\n",
    "            m_50, m_rest3 = divmod(m_rest2, 50)\n",
    "\n",
    "        min_cnt = m_500 + m_100 + m_50 + divmod(m_rest3, 10)[0]\n",
    "    return min_cnt"
   ]
  },
  {
   "cell_type": "code",
   "execution_count": 4,
   "metadata": {},
   "outputs": [
    {
     "data": {
      "text/plain": [
       "7"
      ]
     },
     "execution_count": 4,
     "metadata": {},
     "output_type": "execute_result"
    }
   ],
   "source": [
    "# 500원 짜리 2개, 100원 짜리 2개, 50원 짜리 1개, 10원짜리 2개 총 7개의 최소개수로 거슬러 주도록 만들어야 한다.\n",
    "money = 1270\n",
    "minCnt(money)"
   ]
  },
  {
   "cell_type": "code",
   "execution_count": 2,
   "metadata": {},
   "outputs": [
    {
     "name": "stdout",
     "output_type": "stream",
     "text": [
      "7\n"
     ]
    }
   ],
   "source": [
    "money = 1270\n",
    "cnt   = 0\n",
    "for i in [500, 100, 50, 10] :\n",
    "    cnt += divmod(money, i)[0]\n",
    "    money = divmod(money, i)[1]\n",
    "print(cnt)"
   ]
  },
  {
   "cell_type": "code",
   "execution_count": 3,
   "metadata": {},
   "outputs": [
    {
     "name": "stdout",
     "output_type": "stream",
     "text": [
      "7\n"
     ]
    }
   ],
   "source": [
    "money = 1270\n",
    "cnt   = 0\n",
    "for coin in [500, 100, 50, 10] :\n",
    "    cnt += money // coin \n",
    "    money %= coin\n",
    "print(cnt)"
   ]
  }
 ],
 "metadata": {
  "kernelspec": {
   "display_name": "Python 3",
   "language": "python",
   "name": "python3"
  },
  "language_info": {
   "codemirror_mode": {
    "name": "ipython",
    "version": 3
   },
   "file_extension": ".py",
   "mimetype": "text/x-python",
   "name": "python",
   "nbconvert_exporter": "python",
   "pygments_lexer": "ipython3",
   "version": "3.7.6"
  }
 },
 "nbformat": 4,
 "nbformat_minor": 4
}
