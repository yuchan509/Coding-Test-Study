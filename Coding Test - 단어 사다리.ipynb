{
 "cells": [
  {
   "cell_type": "markdown",
   "id": "f72bf6a7",
   "metadata": {},
   "source": [
    "- 단어 사다리란 퍼즐의 한 종류인데, 두 단어가 주어지면 한 단어에서 한 글자씩 바꿔서 다른 단어를 만드는 것이다. 이 게임은 좋은 어휘력과 맞춤법이 필요하다. 그래서 정답인지 아닌지 확인하는 게 너무 지루하고 귀찮다. \n",
    "\n",
    "- 한 쌍의 단어가 단어 사다리가 되는 조건은 다음과 같다:\n",
    "\n",
    "- 단어의 길이가 같고 반드시 한 글자씩 바뀌어야한다.\n",
    "- 단어 사다리가 가능한 지 판별하는 프로그램을 작성하시오.\n",
    "- 입력이 여러 번 주어지는데, #이 입력되기 전까지를 하나의 테스트케이스로 간주한다.\n",
    "- 각 테스트케이스는 3자 이상 20자 이하의 대문자 알파벳으로 된 단어들이 순서대로 입력된다. 입력의 마지막 줄에는 #이 주어진다.\n",
    "- 단어 사다리가 가능하다면 'Correct'를, 아니면 'Incorrect'를 출력한다."
   ]
  },
  {
   "cell_type": "code",
   "execution_count": 1,
   "id": "930a8bef",
   "metadata": {},
   "outputs": [
    {
     "name": "stdout",
     "output_type": "stream",
     "text": [
      "BARK\n",
      "BARE\n",
      "#\n",
      "Correct\n",
      "BEAK\n",
      "BRAK\n",
      "BRAD\n",
      "BEAD\n",
      "#\n",
      "Correct\n",
      "BEAK\n",
      "BEAD\n",
      "BEND\n",
      "LEND\n",
      "LAND\n",
      "LANE\n",
      "LAKE\n",
      "#\n",
      "Correct\n",
      "MAKE\n",
      "BAKE\n",
      "BONK\n",
      "BONE\n",
      "BANE\n",
      "#\n",
      "Incorrect\n",
      "#\n"
     ]
    }
   ],
   "source": [
    "while 1 :\n",
    "    s1 = input()\n",
    "    if s1 == '#' : break    \n",
    "    s2 = ''\n",
    "    while 1 :\n",
    "        s3 = input()\n",
    "        if s3 == '#' : break\n",
    "        s2 += ' ' + s3\n",
    "        \n",
    "    a = [s1] + s2.split()\n",
    "    r = 0\n",
    "    for i in range(len(a)-1) : \n",
    "        b = 0\n",
    "        if len(a[i]) == len(a[i+1]) :\n",
    "            for j in range(len(a[i])) :\n",
    "                if a[i][j] == a[i+1][j] : \n",
    "                    b += 1 \n",
    "        if len(a[i]) - b == 1 : r += 1\n",
    "\n",
    "    print('Correct') if r == len(a) - 1 else print('Incorrect')"
   ]
  }
 ],
 "metadata": {
  "kernelspec": {
   "display_name": "Python 3",
   "language": "python",
   "name": "python3"
  },
  "language_info": {
   "codemirror_mode": {
    "name": "ipython",
    "version": 3
   },
   "file_extension": ".py",
   "mimetype": "text/x-python",
   "name": "python",
   "nbconvert_exporter": "python",
   "pygments_lexer": "ipython3",
   "version": "3.8.8"
  }
 },
 "nbformat": 4,
 "nbformat_minor": 5
}
