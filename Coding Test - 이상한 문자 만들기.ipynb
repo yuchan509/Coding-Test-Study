{
 "cells": [
  {
   "cell_type": "markdown",
   "metadata": {},
   "source": [
    "- 문자열 s는 한 개 이상의 단어로 구성되어 있습니다. 각 단어는 하나 이상의 공백문자로 구분되어 있습니다. \n",
    "- 각 단어의 짝수번째 알파벳은 대문자로, 홀수번째 알파벳은 소문자로 바꾼 문자열을 리턴하는 함수, solution을 완성하세요.\n",
    "- 문자열 전체의 짝/홀수 인덱스가 아니라, 단어(공백을 기준)별로 짝/홀수 인덱스를 판단해야합니다.\n",
    "- 첫 번째 글자는 0번째 인덱스로 보아 짝수번째 알파벳으로 처리해야 합니다."
   ]
  },
  {
   "cell_type": "code",
   "execution_count": 1,
   "metadata": {},
   "outputs": [],
   "source": [
    "def solution(s):\n",
    "    answer_list = []\n",
    "    for c in s.split() :\n",
    "        text = ''\n",
    "        for i in range(0, len(c)) :\n",
    "            if i % 2 == 0 :\n",
    "                text += c[i].upper()\n",
    "            else :\n",
    "                text += c[i].lower()\n",
    "        answer_list.append(text)\n",
    "    answer = ' '.join(answer_list)\n",
    "    return answer"
   ]
  },
  {
   "cell_type": "code",
   "execution_count": 2,
   "metadata": {},
   "outputs": [],
   "source": [
    "def solution(s) :\n",
    "    text = ''\n",
    "    for c in range(len(s.split())) :\n",
    "        for i in range(len(s.split()[c])) :\n",
    "            if i % 2 != 0 :\n",
    "                text += s.split()[c][i].lower()\n",
    "            else :\n",
    "                text += s.split()[c][i].upper()\n",
    "        if c != len(s.split()) - 1 :\n",
    "            text += ' '\n",
    "    return text"
   ]
  },
  {
   "cell_type": "code",
   "execution_count": 3,
   "metadata": {},
   "outputs": [
    {
     "data": {
      "text/plain": [
       "'TrY HeLlO WoRlD'"
      ]
     },
     "execution_count": 3,
     "metadata": {},
     "output_type": "execute_result"
    }
   ],
   "source": [
    "# \"TrY HeLlO WoRlD\"\n",
    "s = \"try hello world\"\n",
    "solution(s)"
   ]
  },
  {
   "cell_type": "code",
   "execution_count": 4,
   "metadata": {},
   "outputs": [
    {
     "data": {
      "text/plain": [
       "'TrY HeLlO WoRlD'"
      ]
     },
     "execution_count": 4,
     "metadata": {},
     "output_type": "execute_result"
    }
   ],
   "source": [
    "answer_list = []\n",
    "for char in s.split(' ') :\n",
    "    idx = 0\n",
    "    for i in char:\n",
    "        if idx % 2 == 0:\n",
    "            answer_list.append(i.upper())\n",
    "        else :\n",
    "            answer_list.append(i.lower())\n",
    "        idx += 1\n",
    "    answer_list.append(\" \")\n",
    "\n",
    "answer_list.pop() \n",
    "\n",
    "\"\".join(answer_list)"
   ]
  }
 ],
 "metadata": {
  "kernelspec": {
   "display_name": "Python 3",
   "language": "python",
   "name": "python3"
  },
  "language_info": {
   "codemirror_mode": {
    "name": "ipython",
    "version": 3
   },
   "file_extension": ".py",
   "mimetype": "text/x-python",
   "name": "python",
   "nbconvert_exporter": "python",
   "pygments_lexer": "ipython3",
   "version": "3.7.6"
  }
 },
 "nbformat": 4,
 "nbformat_minor": 4
}
