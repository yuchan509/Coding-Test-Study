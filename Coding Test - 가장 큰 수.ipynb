{
 "cells": [
  {
   "cell_type": "markdown",
   "metadata": {},
   "source": [
    "- 또는 양의 정수가 주어졌을 때, 정수를 이어 붙여 만들 수 있는 가장 큰 수를 알아내 주세요.\n",
    "- 예를 들어, 주어진 정수가 [6, 10, 2]라면 [6102, 6210, 1062, 1026, 2610, 2106]를 만들 수 있고, 이중 가장 큰 수는 6210입니다.\n",
    "- 0 또는 양의 정수가 담긴 배열 numbers가 매개변수로 주어질 때, 순서를 재배치하여 만들 수 있는 가장 큰 수를 문자열로 바꾸어 return 하도록 solution 함수를 작성해주세요.\n"
   ]
  },
  {
   "cell_type": "code",
   "execution_count": 1,
   "metadata": {},
   "outputs": [],
   "source": [
    "# 시간 초과인 비효율적 코드.\n",
    "from itertools import permutations\n",
    "def solution(numbers):\n",
    "    index = []\n",
    "    for i in permutations(list(range(len(numbers))), len(numbers)) :\n",
    "         for n in range(len(numbers)) :\n",
    "            result = numbers[i[n]]\n",
    "            index.append(result)\n",
    "\n",
    "    answer_List = []\n",
    "    for i, j in enumerate(range(len(index)), len(numbers)) :\n",
    "        if j % len(numbers) == 0 :\n",
    "            answer = ''.join(map(str, index[j:i]))\n",
    "            answer_List.append(answer)\n",
    "\n",
    "    return  max(answer_List)"
   ]
  },
  {
   "cell_type": "code",
   "execution_count": 2,
   "metadata": {},
   "outputs": [],
   "source": [
    "# 재구성한 코드.\n",
    "def solution(numbers) :\n",
    "    num = list(map(str, numbers))\n",
    "    idx = list(range(len(num)))\n",
    "    dic = dict(zip(idx, num))\n",
    "    answer = ''.join(sorted(dic.values(), key=lambda x : x * 3, reverse=True))\n",
    "    if answer[0] == '0' :\n",
    "        return '0'\n",
    "    return answer"
   ]
  },
  {
   "cell_type": "code",
   "execution_count": 3,
   "metadata": {},
   "outputs": [],
   "source": [
    "# 다른 사람 풀이.\n",
    "# 0에 대한 예외처리를 int로 다시 변환 후 str로 변환해주는 과정을 거침.\n",
    "def solution(numbers):\n",
    "    numbers = list(map(str, numbers))\n",
    "    numbers.sort(key=lambda x: x*3, reverse=True)\n",
    "    return str(int(''.join(numbers)))"
   ]
  },
  {
   "cell_type": "code",
   "execution_count": 4,
   "metadata": {},
   "outputs": [],
   "source": [
    "# 다른 사람 풀이2.\n",
    "def solution(numbers):\n",
    "    answer=\"\"\n",
    "    numberStr=[]\n",
    "    for i,value in enumerate(numbers):\n",
    "        st = str(value)\n",
    "        stri = st*3\n",
    "        numberStr.append([stri,i])\n",
    "\n",
    "    numberStr.sort(reverse=True)\n",
    "    for i,value in enumerate(numberStr):\n",
    "        index = value[1]\n",
    "        answer += str(numbers[index])\n",
    "\n",
    "\n",
    "    for value in answer:\n",
    "        if value!='0':\n",
    "            return answer\n",
    "\n",
    "    return \"0\""
   ]
  },
  {
   "cell_type": "code",
   "execution_count": 5,
   "metadata": {},
   "outputs": [
    {
     "data": {
      "text/plain": [
       "'6210'"
      ]
     },
     "execution_count": 5,
     "metadata": {},
     "output_type": "execute_result"
    }
   ],
   "source": [
    "# \"6210\"\n",
    "numbers = [6, 10, 2]\n",
    "solution(numbers)"
   ]
  },
  {
   "cell_type": "code",
   "execution_count": 6,
   "metadata": {},
   "outputs": [
    {
     "data": {
      "text/plain": [
       "'9534330'"
      ]
     },
     "execution_count": 6,
     "metadata": {},
     "output_type": "execute_result"
    }
   ],
   "source": [
    "# \"9534330\"\n",
    "numbers = [3, 30, 34, 5, 9]\n",
    "solution(numbers)"
   ]
  },
  {
   "cell_type": "code",
   "execution_count": 7,
   "metadata": {},
   "outputs": [
    {
     "data": {
      "text/plain": [
       "'222020'"
      ]
     },
     "execution_count": 7,
     "metadata": {},
     "output_type": "execute_result"
    }
   ],
   "source": [
    "# \"222020\"\n",
    "numbers = [2, 20, 220] \n",
    "solution(numbers)"
   ]
  },
  {
   "cell_type": "code",
   "execution_count": 8,
   "metadata": {},
   "outputs": [
    {
     "data": {
      "text/plain": [
       "'3333130'"
      ]
     },
     "execution_count": 8,
     "metadata": {},
     "output_type": "execute_result"
    }
   ],
   "source": [
    "# \"3333130\"\n",
    "numbers = [3, 30, 31, 33] \n",
    "solution(numbers)"
   ]
  },
  {
   "cell_type": "code",
   "execution_count": 9,
   "metadata": {},
   "outputs": [
    {
     "data": {
      "text/plain": [
       "'0'"
      ]
     },
     "execution_count": 9,
     "metadata": {},
     "output_type": "execute_result"
    }
   ],
   "source": [
    "# 0\n",
    "numbers = [0, 0, 0, 0, 0]\n",
    "solution(numbers)"
   ]
  }
 ],
 "metadata": {
  "kernelspec": {
   "display_name": "Python 3",
   "language": "python",
   "name": "python3"
  },
  "language_info": {
   "codemirror_mode": {
    "name": "ipython",
    "version": 3
   },
   "file_extension": ".py",
   "mimetype": "text/x-python",
   "name": "python",
   "nbconvert_exporter": "python",
   "pygments_lexer": "ipython3",
   "version": "3.8.5"
  }
 },
 "nbformat": 4,
 "nbformat_minor": 4
}
