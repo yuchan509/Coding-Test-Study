{
 "cells": [
  {
   "cell_type": "markdown",
   "id": "a917cdf8",
   "metadata": {},
   "source": [
    "- 팬그램은 26개의 알파벳, a~z를 최소 한번씩 모두 사용한 문장을 말한다. 아마 가장 유명한 문장은 이것일 것이다. \"The quick brown fox jumps over the lazy dog.\"\n",
    "\n",
    "- 꿍은 다른 문장들중에 팬그램인 것은 없는지 궁금해졌다. 그래서 여러분이 할 일은 꿍을 위해 어떠한 문장이 팬그램인지 아닌지를 판별해주는 프로그램을 짜는 것이다.\n",
    "\n",
    "- 다음 N개의 줄은 각각 한 문장이 주어지는데, 알파벳의 대소문자, 공백, 숫자, 그리고 분장부호들(. , ? ! ' \")이 포함될 수 있다.\n",
    "\n",
    "- 팬그램에서는 알파벳의 대소문자를 구분하지 않는다고 하자.\n",
    "\n",
    "- 각 입력에 대해, 팬그램에 해당하면 \"pangram\"을 출력한다.\n",
    "\n",
    "- 만약 팬그램이 아닐 경우, \"missing\"을 출력한 후 한칸 띄고 문장에 나타나지 않은 문자들을 모두 출력한다. 이때, 나타나지 않은 문자들은 모두 소문자로 출력하며 알파벳 순서대로 정렬된상태로 출력해야 한다."
   ]
  },
  {
   "cell_type": "code",
   "execution_count": 1,
   "id": "b1fdf000",
   "metadata": {},
   "outputs": [
    {
     "name": "stdout",
     "output_type": "stream",
     "text": [
      "3\n",
      "The quick brown fox jumps over the lazy dog.\n",
      "pangram \n",
      "ZYXW, vu TSR Ponm lkj ihgfd CBA.\n",
      "missing eq\n",
      ".,?!'\" 92384 abcde FGHIJ\n",
      "missing klmnopqrstuvwxyz\n"
     ]
    }
   ],
   "source": [
    "import re\n",
    "for _ in range(int(input())) :\n",
    "    s = input()\n",
    "    s = re.findall('[a-zA-Z]', s.lower())\n",
    "    az = {chr(i) : 0 for i in range(97, 123)}\n",
    "    for i in s : az[i] += 1\n",
    "    r = ''.join([i for i, j in az.items() if j == 0])\n",
    "    print('pangram' if len(r) == 0 else 'missing', r)"
   ]
  }
 ],
 "metadata": {
  "kernelspec": {
   "display_name": "Python 3",
   "language": "python",
   "name": "python3"
  },
  "language_info": {
   "codemirror_mode": {
    "name": "ipython",
    "version": 3
   },
   "file_extension": ".py",
   "mimetype": "text/x-python",
   "name": "python",
   "nbconvert_exporter": "python",
   "pygments_lexer": "ipython3",
   "version": "3.8.8"
  }
 },
 "nbformat": 4,
 "nbformat_minor": 5
}
