{
 "cells": [
  {
   "cell_type": "markdown",
   "metadata": {},
   "source": [
    "- 섞은 음식의 스코빌 지수 = 가장 맵지 않은 음식의 스코빌 지수 + (두 번째로 맵지 않은 음식의 스코빌 지수 * 2)"
   ]
  },
  {
   "cell_type": "code",
   "execution_count": 1,
   "metadata": {},
   "outputs": [],
   "source": [
    "# 효율성 제로인 코드\n",
    "# 매번 정렬 하는 문제로 효율성이 안좋은 것으로 보임.\n",
    "def solution(scoville, K) :\n",
    "    cnt = 0\n",
    "    while True :\n",
    "        scoville = sorted(scoville)\n",
    "        if scoville[0] < K :\n",
    "            cnt += 1\n",
    "            scoville.append(scoville.pop(0) + scoville.pop(0) * 2)   \n",
    "        else :\n",
    "            break\n",
    "        if len(scoville) == 1 and scoville[0] < K :\n",
    "            return -1\n",
    "    return cnt"
   ]
  },
  {
   "cell_type": "code",
   "execution_count": 2,
   "metadata": {},
   "outputs": [],
   "source": [
    "# heapq은 일반적인 리스트와 다르게, 가지고 있는 요소를 push, pop 할 때마다 자동으로 정렬. => 정렬 비용 감소.\n",
    "# heapq는 최소 힙(min heap) 자료구조.\n",
    "# min heap을 사용하면 원소들이 항상 정렬된 상태로 추가되고 삭제.\n",
    "# min heap에서 가장 작은값은 언제나 인덱스 0, 즉, 이진 트리의 루트에 위치\n",
    "import heapq \n",
    "def solution(scoville, K) :\n",
    "    # heapify(리스트) : 기존 리스트를 힙으로 변환.\n",
    "    heapq.heapify(scoville)\n",
    "    cnt = 0\n",
    "    while scoville[0] < K :\n",
    "        if len(scoville) > 1 :\n",
    "            cnt += 1\n",
    "            # heappush(리스트, 추가할 값) : 힙에 원소를 추가. \n",
    "            # heappop(리스트) : 가장 작은 원소를 삭제.\n",
    "            heapq.heappush(scoville, heapq.heappop(scoville) + (heapq.heappop(scoville) * 2))\n",
    "        else:\n",
    "            return -1\n",
    "    return cnt"
   ]
  },
  {
   "cell_type": "code",
   "execution_count": 3,
   "metadata": {},
   "outputs": [
    {
     "data": {
      "text/plain": [
       "2"
      ]
     },
     "execution_count": 3,
     "metadata": {},
     "output_type": "execute_result"
    }
   ],
   "source": [
    "# 2\n",
    "scoville = [1, 2, 3, 9, 10, 12]\n",
    "K = 7\n",
    "solution(scoville, K)"
   ]
  }
 ],
 "metadata": {
  "kernelspec": {
   "display_name": "Python 3",
   "language": "python",
   "name": "python3"
  },
  "language_info": {
   "codemirror_mode": {
    "name": "ipython",
    "version": 3
   },
   "file_extension": ".py",
   "mimetype": "text/x-python",
   "name": "python",
   "nbconvert_exporter": "python",
   "pygments_lexer": "ipython3",
   "version": "3.7.3"
  }
 },
 "nbformat": 4,
 "nbformat_minor": 2
}
