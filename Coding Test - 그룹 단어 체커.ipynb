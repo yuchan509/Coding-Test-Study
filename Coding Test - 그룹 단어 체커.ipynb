{
 "cells": [
  {
   "cell_type": "markdown",
   "id": "d8fd9736",
   "metadata": {},
   "source": [
    "- 그룹 단어란 단어에 존재하는 모든 문자에 대해서, 각 문자가 연속해서 나타나는 경우만을 말한다. 예를 들면, ccazzzzbb는 c, a, z, b가 모두 연속해서 나타나고, kin도 k, i, n이 연속해서 나타나기 때문에 그룹 단어이지만, aabbbccb는 b가 떨어져서 나타나기 때문에 그룹 단어가 아니다.\n",
    "\n",
    "- 단어 N개를 입력으로 받아 그룹 단어의 개수를 출력하는 프로그램을 작성하시오.\n",
    "\n",
    "- 첫째 줄에 단어의 개수 N이 들어온다. N은 100보다 작거나 같은 자연수이다. 둘째 줄부터 N개의 줄에 단어가 들어온다. 단어는 알파벳 소문자로만 되어있고 중복되지 않으며, 길이는 최대 100이다."
   ]
  },
  {
   "cell_type": "code",
   "execution_count": 1,
   "id": "9003150c",
   "metadata": {},
   "outputs": [
    {
     "name": "stdout",
     "output_type": "stream",
     "text": [
      "3\n",
      "new\n",
      "happy\n",
      "year\n",
      "3\n"
     ]
    }
   ],
   "source": [
    "cnt = 0\n",
    "for _ in range(int(input())) :\n",
    "    s = input()\n",
    "    alist = []\n",
    "    for i, a in enumerate(s) :\n",
    "        if a not in alist or a == alist[-1]:\n",
    "            alist.append(a)\n",
    "        else : break\n",
    "\n",
    "    \n",
    "    if len(list(s)) == len(alist) : \n",
    "        cnt += 1\n",
    "print(cnt)"
   ]
  }
 ],
 "metadata": {
  "kernelspec": {
   "display_name": "Python 3",
   "language": "python",
   "name": "python3"
  },
  "language_info": {
   "codemirror_mode": {
    "name": "ipython",
    "version": 3
   },
   "file_extension": ".py",
   "mimetype": "text/x-python",
   "name": "python",
   "nbconvert_exporter": "python",
   "pygments_lexer": "ipython3",
   "version": "3.8.8"
  }
 },
 "nbformat": 4,
 "nbformat_minor": 5
}
