{
 "cells": [
  {
   "cell_type": "markdown",
   "id": "072db6a9",
   "metadata": {},
   "source": [
    "- 최근 온라인에서의 프로그래밍 콘테스트가 열렸다. W 대학과 K 대학의 컴퓨터 클럽은 이전부터 라이벌 관계에있어,이 콘테스트를 이용하여 양자의 우열을 정하자라는 것이되었다.\n",
    "\n",
    "- 이번이 두 대학에서 모두 10 명씩이 콘테스트에 참여했다. 긴 논의 끝에 참가한 10 명 중 득점이 높은 사람에서 3 명의 점수를 합산하여 대학의 득점으로하기로 했다.\n",
    "\n",
    "- W 대학 및 K 대학 참가자의 점수 데이터가 주어진다. 이때, 각각의 대학의 점수를 계산하는 프로그램을 작성하라.\n",
    "\n",
    "- 입력은 20 행으로 구성된다. 1 번째 줄부터 10 번째 줄에는 W 대학의 각 참가자의 점수를 나타내는 정수가 11 번째 줄부터 20 번째 줄에는 K 대학의 각 참가자의 점수를 나타내는 정수가 적혀있다. 이 정수는 모두 0 이상 100 이하이다.\n",
    "- W 대학 점수와 K 대학의 점수를 순서대로 공백으로 구분하여 출력하라."
   ]
  },
  {
   "cell_type": "code",
   "execution_count": 1,
   "id": "cbe66384",
   "metadata": {},
   "outputs": [
    {
     "name": "stdout",
     "output_type": "stream",
     "text": [
      "23 23 20 15 15 14 13 9 7 6 \n",
      "25 19 17 17 16 13 12 11 9 5\n",
      "66 61\n"
     ]
    }
   ],
   "source": [
    "def top3() :\n",
    "    # return sum(sorted(int(input()) for _ in range(10))[-3:]) <-- 백준에서 입력값을 받을 경우. : jupyter에서는 수행이 안됨.\n",
    "    return sum(sorted(list(map(int, input().split())))[-3:])\n",
    "print(top3(), top3())"
   ]
  },
  {
   "cell_type": "code",
   "execution_count": 2,
   "id": "960f62f9",
   "metadata": {},
   "outputs": [
    {
     "name": "stdout",
     "output_type": "stream",
     "text": [
      "23 23 20 15 15 14 13 9 7 6 25 19 17 17 16 13 12 11 9 5\n",
      "66 61\n"
     ]
    }
   ],
   "source": [
    "# score = [int(input()) for _ in range(20)] <-- 백준에서 입력값을 받을 경우. : jupyter에서는 수행이 안됨.\n",
    "score = list(map(int, input().split()))\n",
    "print( sum(sorted(score[:10])[-3:]), sum(sorted(score[10:])[-3:]) )"
   ]
  }
 ],
 "metadata": {
  "kernelspec": {
   "display_name": "Python 3",
   "language": "python",
   "name": "python3"
  },
  "language_info": {
   "codemirror_mode": {
    "name": "ipython",
    "version": 3
   },
   "file_extension": ".py",
   "mimetype": "text/x-python",
   "name": "python",
   "nbconvert_exporter": "python",
   "pygments_lexer": "ipython3",
   "version": "3.8.8"
  }
 },
 "nbformat": 4,
 "nbformat_minor": 5
}
