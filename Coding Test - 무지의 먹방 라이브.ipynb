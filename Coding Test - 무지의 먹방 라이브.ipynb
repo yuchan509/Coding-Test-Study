{
 "cells": [
  {
   "cell_type": "markdown",
   "id": "62f56063",
   "metadata": {},
   "source": [
    "- 무지는 1번 음식부터 먹기 시작하며, 회전판은 번호가 증가하는 순서대로 음식을 무지 앞으로 가져다 놓는다.\n",
    "- 마지막 번호의 음식을 섭취한 후에는 회전판에 의해 다시 1번 음식이 무지 앞으로 온다.\n",
    "- 무지는 음식 하나를 1초 동안 섭취한 후 남은 음식은 그대로 두고, 다음 음식을 섭취한다.\n",
    "    - 다음 음식이란, 아직 남은 음식 중 다음으로 섭취해야 할 가장 가까운 번호의 음식을 말한다.\n",
    "- 회전판이 다음 음식을 무지 앞으로 가져오는데 걸리는 시간은 없다고 가정한다.\n",
    "    \n",
    "    → 즉,  1번 부터 순서대로 음식을 섭취할 필요가 없음.\n",
    "    \n",
    "\n",
    "무지가 먹방을 시작한 지 K 초 후에 네트워크 장애로 인해 방송이 잠시 중단되었다.\n",
    "\n",
    "무지는 네트워크 정상화 후 다시 방송을 이어갈 때, 몇 번 음식부터 섭취해야 하는지를 알고자 한다.\n",
    "\n",
    "각 음식을 모두 먹는데 필요한 시간이 담겨있는 배열 food_times, 네트워크 장애가 발생한 시간 K 초가 매개변수로 주어질 때 몇 번 음식부터 다시 섭취하면 되는지 return 하도록 solution 함수를 완성하라."
   ]
  },
  {
   "cell_type": "code",
   "execution_count": 1,
   "id": "1d4819db",
   "metadata": {},
   "outputs": [],
   "source": [
    "def solution(food_times, k) :\n",
    "    n = len(food_times)\n",
    "    # [(번호, 시간), ....] 리스트 생성.\n",
    "    array = [(idx + 1, food_times[idx]) for idx in range(n)]\n",
    "    # 시간 기준 오름차순 정렬.\n",
    "    array.sort(key = lambda x : x[-1])\n",
    "    \n",
    "    # 이전 시간값\n",
    "    eat_time = 0 \n",
    "    for idx, time in enumerate(array) :\n",
    "    # 가장 적게 걸리는 음식 번호 시간 값 - 이전 시간값\n",
    "        diff = time[-1] - eat_time\n",
    "        if diff != 0 :\n",
    "            # 제거될 시간 = n번째 음식 층 * 현재 남은 음식 수\n",
    "            spend = diff * n\n",
    "            # 제거될 시간이 네트워크 장애시간 k 보다 작다면 다음과 같이 진행.\n",
    "            if spend <= k :\n",
    "                k -= spend\n",
    "                eat_time = time[-1]\n",
    "    \n",
    "            # 그렇지 않다면, 현재 남은 음식 재정렬 후 다음 먹을 음식의 번호를 반환.\n",
    "            else :\n",
    "                k %= n \n",
    "                return sorted(array[idx:])[k][0]\n",
    "        # 현재 먹는 시간값 - 이전 먹은 시간값 = 0 이라는 것은 동일한 라인 선을 가진 것\n",
    "        # 따라서 음식 수 -1\n",
    "        n -= 1\n",
    "\n",
    "    # 더 이상 섭취해야할 음식이 없을 경우 -1 반환.\n",
    "    return -1 "
   ]
  },
  {
   "cell_type": "code",
   "execution_count": 2,
   "id": "df91de5d",
   "metadata": {},
   "outputs": [
    {
     "data": {
      "text/plain": [
       "1"
      ]
     },
     "execution_count": 2,
     "metadata": {},
     "output_type": "execute_result"
    }
   ],
   "source": [
    "food_times = [3, 1, 2]\n",
    "k = 5\n",
    "solution(food_times, k)"
   ]
  }
 ],
 "metadata": {
  "kernelspec": {
   "display_name": "Python 3 (ipykernel)",
   "language": "python",
   "name": "python3"
  },
  "language_info": {
   "codemirror_mode": {
    "name": "ipython",
    "version": 3
   },
   "file_extension": ".py",
   "mimetype": "text/x-python",
   "name": "python",
   "nbconvert_exporter": "python",
   "pygments_lexer": "ipython3",
   "version": "3.9.7"
  }
 },
 "nbformat": 4,
 "nbformat_minor": 5
}
