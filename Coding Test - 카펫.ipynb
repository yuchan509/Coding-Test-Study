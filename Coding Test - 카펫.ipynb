{
 "cells": [
  {
   "cell_type": "code",
   "execution_count": 1,
   "metadata": {},
   "outputs": [],
   "source": [
    "# 시간초과.\n",
    "from itertools import product\n",
    "def solution(brown, yellow) :\n",
    "    \n",
    "    a_list = []\n",
    "    for i in product(list(range(3, round((brown + yellow)/ 3) + 1)), list(range(3, round((brown + yellow)/ 3) + 1))) :\n",
    "        if i[0] * i[-1] == (brown + yellow) and i[0] >= i[1] :\n",
    "            a_list.append(i)\n",
    "\n",
    "    for w, h in a_list :\n",
    "        if (w >= h) & (2 * (w + h) - 4 == brown) :\n",
    "            answer = [w, h]\n",
    "    return answer"
   ]
  },
  {
   "cell_type": "code",
   "execution_count": 2,
   "metadata": {},
   "outputs": [
    {
     "data": {
      "text/plain": [
       "[4, 3]"
      ]
     },
     "execution_count": 2,
     "metadata": {},
     "output_type": "execute_result"
    }
   ],
   "source": [
    "# [4, 3]\n",
    "brown  = 10\n",
    "yellow = 2\n",
    "solution(brown, yellow)"
   ]
  },
  {
   "cell_type": "code",
   "execution_count": 3,
   "metadata": {},
   "outputs": [
    {
     "data": {
      "text/plain": [
       "[3, 3]"
      ]
     },
     "execution_count": 3,
     "metadata": {},
     "output_type": "execute_result"
    }
   ],
   "source": [
    "# [3, 3]\n",
    "brown  = 8\n",
    "yellow = 1\n",
    "solution(brown, yellow)"
   ]
  },
  {
   "cell_type": "code",
   "execution_count": 4,
   "metadata": {},
   "outputs": [
    {
     "data": {
      "text/plain": [
       "[8, 6]"
      ]
     },
     "execution_count": 4,
     "metadata": {},
     "output_type": "execute_result"
    }
   ],
   "source": [
    "# [8, 6]\n",
    "brown  = 24\n",
    "yellow = 24\n",
    "solution(brown, yellow)"
   ]
  }
 ],
 "metadata": {
  "kernelspec": {
   "display_name": "Python 3",
   "language": "python",
   "name": "python3"
  },
  "language_info": {
   "codemirror_mode": {
    "name": "ipython",
    "version": 3
   },
   "file_extension": ".py",
   "mimetype": "text/x-python",
   "name": "python",
   "nbconvert_exporter": "python",
   "pygments_lexer": "ipython3",
   "version": "3.7.6"
  }
 },
 "nbformat": 4,
 "nbformat_minor": 4
}
