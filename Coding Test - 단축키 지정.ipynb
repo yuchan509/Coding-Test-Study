{
 "cells": [
  {
   "cell_type": "markdown",
   "id": "4ebef597",
   "metadata": {},
   "source": [
    "- 한글 프로그램의 메뉴에는 총 N개의 옵션이 있다. 각 옵션들은 한 개 또는 여러 개의 단어로 옵션의 기능을 설명하여 놓았다. 그리고 우리는 위에서부터 차례대로 각 옵션에 단축키를 의미하는 대표 알파벳을 지정하기로 하였다. 단축키를 지정하는 법은 아래의 순서를 따른다.\n",
    "    - 먼저 하나의 옵션에 대해 왼쪽에서부터 오른쪽 순서로 단어의 첫 글자가 이미 단축키로 지정되었는지 살펴본다. 만약 단축키로 아직 지정이 안 되어있다면 그 알파벳을 단축키로 지정한다.\n",
    "    - 만약 모든 단어의 첫 글자가 이미 지정이 되어있다면 왼쪽에서부터 차례대로 알파벳을 보면서 단축키로 지정 안 된 것이 있다면 단축키로 지정한다.\n",
    "    - 어떠한 것도 단축키로 지정할 수 없다면 그냥 놔두며 대소문자를 구분치 않는다.\n",
    "    - 위의 규칙을 첫 번째 옵션부터 N번째 옵션까지 차례대로 적용한다.\n",
    "- 첫째 줄에 옵션의 개수 N(1 ≤ N ≤ 30)이 주어진다. 둘째 줄부터 N+1번째 줄까지 각 줄에 옵션을 나타내는 문자열이 입력되는데 하나의 옵션은 5개 이하의 단어로 표현되며, 각 단어 역시 10개 이하의 알파벳으로 표현된다. 단어는 공백 한 칸으로 구분되어져 있다.\n",
    "- N개의 줄에 각 옵션을 출력하는데 단축키로 지정된 알파벳은 좌우에 [] 괄호를 씌워서 표현한다."
   ]
  },
  {
   "cell_type": "code",
   "execution_count": 1,
   "id": "08ff4841",
   "metadata": {},
   "outputs": [
    {
     "name": "stdout",
     "output_type": "stream",
     "text": [
      "5\n",
      "New\n",
      "[N]ew\n",
      "Open\n",
      "[O]pen\n",
      "Save\n",
      "[S]ave\n",
      "Save As\n",
      "Save [A]s\n",
      "Save All\n",
      "Sa[v]e All\n"
     ]
    }
   ],
   "source": [
    "key = []\n",
    "for _ in range(int(input())) :\n",
    "    s  = input()\n",
    "    sp = s.split()\n",
    "    for i, t in enumerate(sp) :\n",
    "        if t[0].lower() not in key :\n",
    "            key += [t[0].lower()]\n",
    "            sp[i] = sp[i].replace(f'{sp[i][0]}', f'[{t[0]}]', 1)\n",
    "            print(' '.join(sp))\n",
    "            break    \n",
    "    else :\n",
    "        for i in range(len(s)) :\n",
    "            if s[i] == ' ' : continue\n",
    "            if s[i].lower() not in key :\n",
    "                key += [s[i].lower()]\n",
    "                print(s.replace(s[i], f'[{s[i]}]', 1))\n",
    "                break\n",
    "        else : print(s)"
   ]
  },
  {
   "cell_type": "code",
   "execution_count": 2,
   "id": "03fd059c",
   "metadata": {},
   "outputs": [
    {
     "name": "stdout",
     "output_type": "stream",
     "text": [
      "8\n",
      "New window\n",
      "[N]ew window\n",
      "New file\n",
      "New [f]ile\n",
      "Copy\n",
      "[C]opy\n",
      "Undo\n",
      "[U]ndo\n",
      "Format\n",
      "F[o]rmat\n",
      "Font\n",
      "Fon[t]\n",
      "Cut\n",
      "Cut\n",
      "Paste\n",
      "[P]aste\n"
     ]
    }
   ],
   "source": [
    "# 옵션 설정 키를 담을 리스트 생성.\n",
    "key = []\n",
    "\n",
    "# 입력 받는 문자수(줄 바꿈 기준)만큼 반복.\n",
    "for _ in range(int(input())) :\n",
    "    s  = input()\n",
    "    sp = s.split()\n",
    "    \n",
    "    # Step1. 각 단어의 첫번째 글자가 설정되었는지 확인. 설정되지 않았다면 설정 키를 key에 추가하고 해당 글자를 [] 하여 출력.\n",
    "    for i, t in enumerate(sp) :\n",
    "        if t[0].lower() not in key :\n",
    "            key += [t[0].lower()]\n",
    "            sp[i] = sp[i].replace(f'{sp[i][0]}', f'[{t[0]}]', 1)\n",
    "            print(' '.join(sp))\n",
    "            break\n",
    "            \n",
    "    # Step2. 각 단어의 첫번째 글자가 이미 다 설정된 경우, 글자의 왼쪽에서부터 차례대로 설정되지 않은 글자를 찾아 추가 및 출력.\n",
    "    else :\n",
    "        for i in range(len(s)) :\n",
    "            if s[i] == ' ' : continue\n",
    "            if s[i].lower() not in key :\n",
    "                key += [s[i].lower()]\n",
    "                print(s.replace(s[i], f'[{s[i]}]', 1))\n",
    "                break\n",
    "                \n",
    "        # Step3. 특정 단어의 글자가 이미 단축키 값으로 모두 설정되어 있다면, 문자 그대로를 출력.\n",
    "        else : print(s)"
   ]
  }
 ],
 "metadata": {
  "kernelspec": {
   "display_name": "Python 3",
   "language": "python",
   "name": "python3"
  },
  "language_info": {
   "codemirror_mode": {
    "name": "ipython",
    "version": 3
   },
   "file_extension": ".py",
   "mimetype": "text/x-python",
   "name": "python",
   "nbconvert_exporter": "python",
   "pygments_lexer": "ipython3",
   "version": "3.8.8"
  }
 },
 "nbformat": 4,
 "nbformat_minor": 5
}
