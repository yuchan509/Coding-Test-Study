{
 "cells": [
  {
   "cell_type": "markdown",
   "metadata": {},
   "source": [
    "- 입력으로는 str1과 str2의 두 문자열이 들어온다. 각 문자열의 길이는 2 이상, 1,000 이하이다.\n",
    "- 입력으로 들어온 문자열은 두 글자씩 끊어서 다중집합의 원소로 만든다. 이때 영문자로 된 글자 쌍만 유효하고, 기타 공백이나 숫자, 특수 문자가 들어있는 경우는 그 글자 쌍을 버린다. 예를 들어 \"ab+\"가 입력으로 들어오면, \"ab\"만 다중집합의 원소로 삼고, \"b+\"는 버린다.\n",
    "- 다중집합 원소 사이를 비교할 때, 대문자와 소문자의 차이는 무시한다. \"AB\"와 \"Ab\", \"ab\"는 같은 원소로 취급한다.\n",
    "- 입력으로 들어온 두 문자열의 자카드 유사도를 출력한다. 유사도 값은 0에서 1 사이의 실수이므로, 이를 다루기 쉽도록 65536을 곱한 후에 소수점 아래를 버리고 정수부만 출력한다."
   ]
  },
  {
   "cell_type": "code",
   "execution_count": 1,
   "metadata": {},
   "outputs": [],
   "source": [
    "# 소수값을 버리기 위한 import : math.floor\n",
    "import math\n",
    "\n",
    "# 영어로 구성된 단어만을 가져오기 위한 함수.\n",
    "def String(Str) :\n",
    "    List = []\n",
    "    i = 0\n",
    "    while True :\n",
    "        if i != len(Str) - 1 :\n",
    "            List.append(''.join([list(Str)[i], list(Str)[i + 1]]).lower().strip())\n",
    "            i += 1\n",
    "        else : break\n",
    "    List = [i for i in List if i.isalpha() and len(i) == 2]   \n",
    "    return List\n",
    "\n",
    "def solution(str1, str2) :\n",
    "    Union, Inter = 0, 0 \n",
    "    \n",
    "    for i in set(String(str1)) | set(String(str2)) :\n",
    "        Union += max(String(str1).count(i), String(str2).count(i))\n",
    "        Inter += min(String(str1).count(i), String(str2).count(i))\n",
    "    \n",
    "    # 두 집합이 공집합일 경우.\n",
    "    if len(String(str1)) == 0 and len(String(str2)) == 0 :\n",
    "        Answer = 65536\n",
    "    else :\n",
    "        Answer = math.floor((Inter/ Union) * 65536)\n",
    "    return  Answer"
   ]
  },
  {
   "cell_type": "code",
   "execution_count": 2,
   "metadata": {},
   "outputs": [
    {
     "data": {
      "text/plain": [
       "16384"
      ]
     },
     "execution_count": 2,
     "metadata": {},
     "output_type": "execute_result"
    }
   ],
   "source": [
    "# 16384\n",
    "str1 = 'FRANCE'\n",
    "str2 = 'french'\n",
    "solution(str1, str2)"
   ]
  },
  {
   "cell_type": "code",
   "execution_count": 3,
   "metadata": {},
   "outputs": [
    {
     "data": {
      "text/plain": [
       "65536"
      ]
     },
     "execution_count": 3,
     "metadata": {},
     "output_type": "execute_result"
    }
   ],
   "source": [
    "# 65536\n",
    "str1 = 'handshake'\n",
    "str2 = 'shake hands'\n",
    "solution(str1, str2)"
   ]
  },
  {
   "cell_type": "code",
   "execution_count": 4,
   "metadata": {},
   "outputs": [
    {
     "data": {
      "text/plain": [
       "43690"
      ]
     },
     "execution_count": 4,
     "metadata": {},
     "output_type": "execute_result"
    }
   ],
   "source": [
    "# 43690\n",
    "str1 = 'aa1+aa2'\n",
    "str2 = 'AAAA12'\n",
    "solution(str1, str2)"
   ]
  },
  {
   "cell_type": "code",
   "execution_count": 5,
   "metadata": {},
   "outputs": [
    {
     "data": {
      "text/plain": [
       "65536"
      ]
     },
     "execution_count": 5,
     "metadata": {},
     "output_type": "execute_result"
    }
   ],
   "source": [
    "# 65536\n",
    "str1 = 'E=M*C^2'\n",
    "str2 = 'e=m*c^2'\n",
    "solution(str1, str2)\n"
   ]
  }
 ],
 "metadata": {
  "kernelspec": {
   "display_name": "Python 3",
   "language": "python",
   "name": "python3"
  },
  "language_info": {
   "codemirror_mode": {
    "name": "ipython",
    "version": 3
   },
   "file_extension": ".py",
   "mimetype": "text/x-python",
   "name": "python",
   "nbconvert_exporter": "python",
   "pygments_lexer": "ipython3",
   "version": "3.7.3"
  }
 },
 "nbformat": 4,
 "nbformat_minor": 2
}
