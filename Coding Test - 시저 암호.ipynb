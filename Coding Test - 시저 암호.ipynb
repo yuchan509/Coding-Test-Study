{
 "cells": [
  {
   "cell_type": "markdown",
   "metadata": {},
   "source": [
    "- 어떤 문장의 각 알파벳을 일정한 거리만큼 밀어서 다른 알파벳으로 바꾸는 암호화 방식을 시저 암호라고 합니다. \n",
    "- 예를 들어 \"AB\"는 1만큼 밀면 \"BC\"가 되고, 3만큼 밀면 \"DE\"가 됩니다. \"z\"는 1만큼 밀면 \"a\"가 됩니다. \n",
    "- 문자열 s와 거리 n을 입력받아 s를 n만큼 민 암호문을 만드는 함수, solution을 완성해 보세요.\n",
    "- 공백은 아무리 밀어도 공백입니다.\n",
    "- s는 알파벳 소문자, 대문자, 공백으로만 이루어져 있습니다.\n",
    "- s의 길이는 8000이하입니다.\n",
    "- n은 1 이상, 25이하인 자연수입니다."
   ]
  },
  {
   "cell_type": "code",
   "execution_count": 2,
   "metadata": {},
   "outputs": [],
   "source": [
    "def solution(s, n):\n",
    "    s = list(s)\n",
    "    for i in range(len(s)):\n",
    "        # 대문자인 경우.\n",
    "        if s[i].isupper():\n",
    "            # chr(정수), ord(문자) 값 반환.\n",
    "            s[i] = chr((ord(s[i]) - ord('A') + n) % 26 + ord('A'))\n",
    "        # 소문자인 경우.\n",
    "        elif s[i].islower():\n",
    "            s[i] = chr((ord(s[i]) - ord('a') + n) % 26 + ord('a'))\n",
    "    return ''.join(s)"
   ]
  },
  {
   "cell_type": "code",
   "execution_count": 3,
   "metadata": {},
   "outputs": [
    {
     "data": {
      "text/plain": [
       "'BCd'"
      ]
     },
     "execution_count": 3,
     "metadata": {},
     "output_type": "execute_result"
    }
   ],
   "source": [
    "# BCd\n",
    "s = \"ABc\"\n",
    "n = 1\n",
    "solution(s, n)"
   ]
  },
  {
   "cell_type": "code",
   "execution_count": 4,
   "metadata": {},
   "outputs": [
    {
     "data": {
      "text/plain": [
       "'e F d'"
      ]
     },
     "execution_count": 4,
     "metadata": {},
     "output_type": "execute_result"
    }
   ],
   "source": [
    "s = \"a B z\"\n",
    "n = 4\n",
    "solution(s, n)"
   ]
  }
 ],
 "metadata": {
  "kernelspec": {
   "display_name": "Python 3",
   "language": "python",
   "name": "python3"
  },
  "language_info": {
   "codemirror_mode": {
    "name": "ipython",
    "version": 3
   },
   "file_extension": ".py",
   "mimetype": "text/x-python",
   "name": "python",
   "nbconvert_exporter": "python",
   "pygments_lexer": "ipython3",
   "version": "3.7.6"
  }
 },
 "nbformat": 4,
 "nbformat_minor": 4
}
