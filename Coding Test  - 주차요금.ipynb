{
 "cells": [
  {
   "cell_type": "code",
   "execution_count": 1,
   "id": "b13d0831",
   "metadata": {},
   "outputs": [],
   "source": [
    "import math\n",
    "from datetime import datetime\n",
    "from collections import defaultdict\n",
    "\n",
    "\n",
    "def dictionary(records) :\n",
    "    dic = defaultdict(list)\n",
    "\n",
    "    for i in records :\n",
    "        a = i.split()\n",
    "        dic[a[1]].append(a[0])\n",
    "        dic[a[1]].append(a[-1])\n",
    "\n",
    "    for i in dic.values() :\n",
    "        if i[-1] != \"OUT\" :\n",
    "            i.append(\"23:59\")\n",
    "            i.append(\"OUT\")\n",
    "\n",
    "    for i in dic.values() :\n",
    "        for j in range(int(len(i[::2]) / 2)) :\n",
    "            start, end = i[j], i[j + 1]\n",
    "\n",
    "    return sorted(dic.items())\n",
    "\n",
    "def solution(fees, records) :\n",
    "\n",
    "    spend_time_list = []\n",
    "    for i in dictionary(records) :\n",
    "        a = i[-1][::2]\n",
    "\n",
    "        spend_time = 0\n",
    "        In = 0\n",
    "        Out = 1\n",
    "\n",
    "        for _ in range(int(len(a) / 2)) :\n",
    "            t1, t2 = a[In], a[Out]\n",
    "            fmt = '%H:%M'\n",
    "            delta = datetime.strptime(t2, fmt) - datetime.strptime(t1, fmt)\n",
    "            minitue = delta.seconds / 60\n",
    "            spend_time += minitue\n",
    "            In += 2\n",
    "            Out += 2\n",
    "\n",
    "        spend_time_list.append(int(spend_time))\n",
    "    \n",
    "\n",
    "    answer = [fees[1] + math.ceil((t - fees[0]) / fees[2]) * fees[-1] if t >= fees[0] else fees[1] for t in spend_time_list]\n",
    "    return answer"
   ]
  },
  {
   "cell_type": "code",
   "execution_count": 2,
   "id": "2016f2fe",
   "metadata": {},
   "outputs": [
    {
     "data": {
      "text/plain": [
       "[14600, 34400, 5000]"
      ]
     },
     "execution_count": 2,
     "metadata": {},
     "output_type": "execute_result"
    }
   ],
   "source": [
    "# [14600, 34400, 5000]\n",
    "records = [\"05:34 5961 IN\", \"06:00 0000 IN\", \"06:34 0000 OUT\", \"07:59 5961 OUT\", \n",
    "           \"07:59 0148 IN\", \"18:59 0000 IN\", \"19:09 0148 OUT\", \"22:59 5961 IN\", \"23:00 5961 OUT\"]\n",
    "fees = [180, 5000, 10, 600]\n",
    "solution(fees, records)"
   ]
  }
 ],
 "metadata": {
  "kernelspec": {
   "display_name": "Python 3 (ipykernel)",
   "language": "python",
   "name": "python3"
  },
  "language_info": {
   "codemirror_mode": {
    "name": "ipython",
    "version": 3
   },
   "file_extension": ".py",
   "mimetype": "text/x-python",
   "name": "python",
   "nbconvert_exporter": "python",
   "pygments_lexer": "ipython3",
   "version": "3.9.7"
  }
 },
 "nbformat": 4,
 "nbformat_minor": 5
}
