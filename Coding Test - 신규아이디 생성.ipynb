{
 "cells": [
  {
   "cell_type": "markdown",
   "metadata": {},
   "source": [
    "- 1단계 new_id의 모든 대문자를 대응되는 소문자로 치환합니다.\n",
    "- 2단계 new_id에서 알파벳 소문자, 숫자, 빼기(-), 밑줄(_), 마침표(.)를 제외한 모든 문자를 제거합니다.\n",
    "- 3단계 new_id에서 마침표(.)가 2번 이상 연속된 부분을 하나의 마침표(.)로 치환합니다.\n",
    "- 4단계 new_id에서 마침표(.)가 처음이나 끝에 위치한다면 제거합니다.\n",
    "- 5단계 new_id가 빈 문자열이라면, new_id에 \"a\"를 대입합니다.\n",
    "- 6단계 new_id의 길이가 16자 이상이면, new_id의 첫 15개의 문자를 제외한 나머지 문자들을 모두 제거합니다.\n",
    "     만약 제거 후 마침표(.)가 new_id의 끝에 위치한다면 끝에 위치한 마침표(.) 문자를 제거합니다.\n",
    "- 7단계 new_id의 길이가 2자 이하라면, new_id의 마지막 문자를 new_id의 길이가 3이 될 때까지 반복해서 끝에 붙입니다."
   ]
  },
  {
   "cell_type": "code",
   "execution_count": 1,
   "metadata": {},
   "outputs": [],
   "source": [
    "import re\n",
    "def solution(new_id):\n",
    "    # 1단계.\n",
    "    # 모든 알파벳 소문자화.\n",
    "    new_id = new_id.lower()\n",
    "    # 2단계.\n",
    "    # id의 시작문자는 알파벳 소문자\n",
    "    new_id = re.sub('[^a-z0-9\\._-]', '',  new_id)\n",
    "    # 3단계.\n",
    "    # . 이 반복적으로 등장한다면 . 하나로 대체.\n",
    "    new_id = re.sub('\\.+', '.', new_id)\n",
    "    # 4단계.\n",
    "    # .이 처음과 끝에 존재할 경우 제거.\n",
    "    new_id = re.sub('^[.]|[.]$', '', new_id)\n",
    "    # 5단계.\n",
    "    # 만약 id가 빈 문자열일 경우 a 대입. 그렇지 않은 현재 그대로 반환.\n",
    "    new_id = 'a' if len(new_id) == 0 else new_id[:15]\n",
    "    # 6단계.\n",
    "    # 조건에 따른 4단계 실시.\n",
    "    if len(new_id) >= 16 :\n",
    "        new_id = new_id[:15]\n",
    "    new_id = re.sub('^[.]|[.]$', '', new_id)\n",
    "    # 7단계.\n",
    "    new_id = new_id if len(new_id) > 2 else new_id + ''.join([new_id[-1] for n in range(3-len(new_id))])\n",
    "    return new_id"
   ]
  },
  {
   "cell_type": "code",
   "execution_count": 3,
   "metadata": {},
   "outputs": [
    {
     "data": {
      "text/plain": [
       "'bat.y.abcdefghi'"
      ]
     },
     "execution_count": 3,
     "metadata": {},
     "output_type": "execute_result"
    }
   ],
   "source": [
    "new_id = \"...!@BaT#*..y.abcdefghijklm\"\n",
    "solution(new_id)"
   ]
  }
 ],
 "metadata": {
  "kernelspec": {
   "display_name": "Python 3",
   "language": "python",
   "name": "python3"
  },
  "language_info": {
   "codemirror_mode": {
    "name": "ipython",
    "version": 3
   },
   "file_extension": ".py",
   "mimetype": "text/x-python",
   "name": "python",
   "nbconvert_exporter": "python",
   "pygments_lexer": "ipython3",
   "version": "3.7.6"
  }
 },
 "nbformat": 4,
 "nbformat_minor": 4
}
