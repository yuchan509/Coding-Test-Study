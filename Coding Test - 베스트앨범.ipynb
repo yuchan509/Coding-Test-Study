{
 "cells": [
  {
   "cell_type": "markdown",
   "id": "d97047f5",
   "metadata": {},
   "source": [
    "- 속한 노래가 많이 재생된 장르를 먼저 수록합니다.\n",
    "- 장르 내에서 많이 재생된 노래를 먼저 수록합니다.\n",
    "- 장르 내에서 재생 횟수가 같은 노래 중에서는 고유 번호가 낮은 노래를 먼저 수록합니다.\n",
    "- genres[i]는 고유번호가 i인 노래의 장르입니다.\n",
    "- plays[i]는 고유번호가 i인 노래가 재생된 횟수입니다.\n",
    "- 노래의 장르를 나타내는 문자열 배열 genres와 노래별 재생 횟수를 나타내는 정수 배열 plays가 주어질 때, 베스트 앨범에 들어갈 노래의 고유 번호를 순서대로 return 하도록 solution 함수를 완성하세요."
   ]
  },
  {
   "cell_type": "code",
   "execution_count": 1,
   "id": "44972bfb",
   "metadata": {},
   "outputs": [],
   "source": [
    "from collections import defaultdict\n",
    "    \n",
    "def solution(genres, plays) :\n",
    "    \n",
    "    arr = defaultdict(list)\n",
    "    for idx, (g, p) in enumerate(zip(genres, plays)) :\n",
    "            arr[g].append((p, idx))\n",
    "\n",
    "    answer = []\n",
    "    sorted_genres = sorted(arr.keys(), key = lambda x : sum([i[0] for i in arr.get(x)]), reverse = True)\n",
    "    for i in sorted_genres :\n",
    "        result = sorted(arr[i], key = lambda x : -x[0])\n",
    "        answer += [i[-1] for i in result][:2]\n",
    "    \n",
    "    return answer"
   ]
  },
  {
   "cell_type": "code",
   "execution_count": 2,
   "id": "a91b1ea7",
   "metadata": {},
   "outputs": [
    {
     "data": {
      "text/plain": [
       "[4, 1, 3, 0]"
      ]
     },
     "execution_count": 2,
     "metadata": {},
     "output_type": "execute_result"
    }
   ],
   "source": [
    "genres = [\"classic\", \"pop\", \"classic\", \"classic\", \"pop\"]\n",
    "plays = [500, 600, 500, 800, 2500]\n",
    "solution(genres, plays)"
   ]
  }
 ],
 "metadata": {
  "kernelspec": {
   "display_name": "Python 3 (ipykernel)",
   "language": "python",
   "name": "python3"
  },
  "language_info": {
   "codemirror_mode": {
    "name": "ipython",
    "version": 3
   },
   "file_extension": ".py",
   "mimetype": "text/x-python",
   "name": "python",
   "nbconvert_exporter": "python",
   "pygments_lexer": "ipython3",
   "version": "3.9.7"
  }
 },
 "nbformat": 4,
 "nbformat_minor": 5
}
