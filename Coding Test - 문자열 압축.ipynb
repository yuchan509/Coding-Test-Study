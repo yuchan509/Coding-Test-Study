{
 "cells": [
  {
   "cell_type": "code",
   "execution_count": 1,
   "id": "107d1983",
   "metadata": {},
   "outputs": [],
   "source": [
    "def solution(s) :\n",
    "    answer = [len(s)]\n",
    "    for size in range(1, len(s) // 2 + 1) :\n",
    "        compressed = [s[i : i + size] for i in range(0, len(s), size)]\n",
    "\n",
    "        idx = 0\n",
    "        cnt = 1\n",
    "        string = \"\"\n",
    "        while True :\n",
    "            if compressed[idx] == compressed[idx + 1] :\n",
    "                cnt += 1\n",
    "                idx += 1 \n",
    "\n",
    "            else :\n",
    "                string +=  str(cnt) + compressed[idx] if cnt != 1 else compressed[idx]\n",
    "                idx += 1\n",
    "                cnt = 1\n",
    "\n",
    "            if idx == len(compressed) - 1  : break\n",
    "\n",
    "        string +=  str(cnt) + compressed[idx] if cnt != 1 else compressed[idx]\n",
    "        answer.append(len(string))\n",
    "\n",
    "    return min(answer)"
   ]
  },
  {
   "cell_type": "code",
   "execution_count": 2,
   "id": "af92c215",
   "metadata": {},
   "outputs": [
    {
     "data": {
      "text/plain": [
       "7"
      ]
     },
     "execution_count": 2,
     "metadata": {},
     "output_type": "execute_result"
    }
   ],
   "source": [
    "s = \"aabbaccc\"\n",
    "solution(s)"
   ]
  },
  {
   "cell_type": "code",
   "execution_count": 3,
   "id": "68dc707a",
   "metadata": {},
   "outputs": [],
   "source": [
    "def solution(s) :\n",
    "    answer = len(s)\n",
    "    for step in range(1, len(s) // 2 + 1) :\n",
    "        compressed = \"\"\n",
    "        prev = s[0 : step]\n",
    "        cnt  = 1\n",
    "\n",
    "        for j in range(step, len(s), step) :\n",
    "            if prev == s[j : j + step] : \n",
    "                cnt += 1\n",
    "                \n",
    "            else :\n",
    "                compressed += str(cnt) + prev if cnt >= 2 else prev\n",
    "                prev = s[j : j + step]\n",
    "                cnt = 1\n",
    "\n",
    "        compressed += str(cnt) + prev if cnt >= 2 else prev\n",
    "        answer = min(answer, len(compressed))\n",
    "        \n",
    "    return answer"
   ]
  },
  {
   "cell_type": "code",
   "execution_count": 4,
   "id": "80eaeaef",
   "metadata": {},
   "outputs": [
    {
     "data": {
      "text/plain": [
       "7"
      ]
     },
     "execution_count": 4,
     "metadata": {},
     "output_type": "execute_result"
    }
   ],
   "source": [
    "s = \"aabbaccc\"\n",
    "solution(s)"
   ]
  }
 ],
 "metadata": {
  "kernelspec": {
   "display_name": "Python 3 (ipykernel)",
   "language": "python",
   "name": "python3"
  },
  "language_info": {
   "codemirror_mode": {
    "name": "ipython",
    "version": 3
   },
   "file_extension": ".py",
   "mimetype": "text/x-python",
   "name": "python",
   "nbconvert_exporter": "python",
   "pygments_lexer": "ipython3",
   "version": "3.9.7"
  }
 },
 "nbformat": 4,
 "nbformat_minor": 5
}
