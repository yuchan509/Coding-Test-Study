{
 "cells": [
  {
   "cell_type": "markdown",
   "metadata": {},
   "source": [
    "- 수포자는 수학을 포기한 사람의 준말입니다. 수포자 삼인방은 모의고사에 수학 문제를 전부 찍으려 합니다. 수포자는 1번 문제부터 마지막 문제까지 다음과 같이 찍습니다.\n",
    "\n",
    "- 1번 수포자가 찍는 방식: 1, 2, 3, 4, 5, 1, 2, 3, 4, 5, ...\n",
    "- 2번 수포자가 찍는 방식: 2, 1, 2, 3, 2, 4, 2, 5, 2, 1, 2, 3, 2, 4, 2, 5, ...\n",
    "- 3번 수포자가 찍는 방식: 3, 3, 1, 1, 2, 2, 4, 4, 5, 5, 3, 3, 1, 1, 2, 2, 4, 4, 5, 5, ...\n",
    "\n",
    "- 1번 문제부터 마지막 문제까지의 정답이 순서대로 들은 배열 answers가 주어졌을 때, 가장 많은 문제를 맞힌 사람이 누구인지 배열에 담아 return 하도록 solution 함수를 작성해주세요.\n",
    "\n",
    "- 가장 높은 점수를 받은 사람이 여럿일 경우, return하는 값을 오름차순 정렬해주세요."
   ]
  },
  {
   "cell_type": "code",
   "execution_count": 1,
   "metadata": {},
   "outputs": [],
   "source": [
    "# 처음 작성한 코드.\n",
    "import math\n",
    "def solution(answers) :\n",
    "    \n",
    "    man1 = [1,2,3,4,5] * math.ceil(len(answers) / 5)\n",
    "    man2 = [2,1,2,3,2,4,2,5] * math.ceil(len(answers) / 8)\n",
    "    man3 = [3,3,1,1,2,2,4,4,5,5] * math.ceil(len(answers) / 10)\n",
    "    man_list = [man1, man2, man3]\n",
    "    \n",
    "    res = {\"man1\" : [], \"man2\" : [], \"man3\" : []}\n",
    "    for i, j in zip(answers, man1[:len(answers)]) :\n",
    "        if i == j :\n",
    "            res['man1'].append(i)\n",
    "    for i, j in zip(answers, man2[:len(answers)]) :\n",
    "        if i == j :\n",
    "            res['man2'].append(i)\n",
    "    for i, j in zip(answers, man3[:len(answers)]) :\n",
    "        if i == j :\n",
    "            res['man3'].append(i)\n",
    "    answer = {}\n",
    "    for i, j in enumerate(res.values()) :\n",
    "        answer[i + 1] = len(j)\n",
    "    max_score = max(sorted(answer.items(), key=lambda x : x[1], reverse=True), key=lambda y : y[1])[1]\n",
    "\n",
    "    return [ s[0] for s in sorted(answer.items(), key=lambda x : x[1], reverse=True) if s[1] == max_score ]"
   ]
  },
  {
   "cell_type": "code",
   "execution_count": 2,
   "metadata": {},
   "outputs": [],
   "source": [
    "# 축약한 코드.\n",
    "import math\n",
    "def solution(answers) :\n",
    "    \n",
    "    man1 = [1,2,3,4,5] * math.ceil(len(answers) / 5)\n",
    "    man2 = [2,1,2,3,2,4,2,5] * math.ceil(len(answers) / 8)\n",
    "    man3 = [3,3,1,1,2,2,4,4,5,5] * math.ceil(len(answers) / 10)\n",
    "    man_list = [man1, man2, man3]\n",
    "    \n",
    "    score = {}\n",
    "    for w, k in enumerate(man_list) :\n",
    "        score[w + 1] = (len([ i for i, j in zip(answers, k[:len(answers)]) if i == j ]))\n",
    "\n",
    "    max_score = max(sorted(score.items(), key=lambda x : x[1], reverse=True), key=lambda y : y[1])[1]\n",
    "    return [ s[0] for s in sorted(score.items(), key=lambda x : x[1], reverse=True) if s[1] == max_score ]"
   ]
  },
  {
   "cell_type": "code",
   "execution_count": 3,
   "metadata": {},
   "outputs": [
    {
     "data": {
      "text/plain": [
       "[1]"
      ]
     },
     "execution_count": 3,
     "metadata": {},
     "output_type": "execute_result"
    }
   ],
   "source": [
    "# [1]\n",
    "answers = [1,2,3,4,5]\n",
    "solution(answers)"
   ]
  },
  {
   "cell_type": "code",
   "execution_count": 4,
   "metadata": {},
   "outputs": [
    {
     "data": {
      "text/plain": [
       "[1, 2, 3]"
      ]
     },
     "execution_count": 4,
     "metadata": {},
     "output_type": "execute_result"
    }
   ],
   "source": [
    "# [1,2,3]\n",
    "answers = [1,3,2,4,2]\n",
    "solution(answers)"
   ]
  },
  {
   "cell_type": "code",
   "execution_count": 5,
   "metadata": {},
   "outputs": [
    {
     "data": {
      "text/plain": [
       "[1, 3]"
      ]
     },
     "execution_count": 5,
     "metadata": {},
     "output_type": "execute_result"
    }
   ],
   "source": [
    "# [1,3]\n",
    "answers = [5, 5, 5, 1, 4, 1]\n",
    "solution(answers)"
   ]
  }
 ],
 "metadata": {
  "kernelspec": {
   "display_name": "Python 3",
   "language": "python",
   "name": "python3"
  },
  "language_info": {
   "codemirror_mode": {
    "name": "ipython",
    "version": 3
   },
   "file_extension": ".py",
   "mimetype": "text/x-python",
   "name": "python",
   "nbconvert_exporter": "python",
   "pygments_lexer": "ipython3",
   "version": "3.7.3"
  }
 },
 "nbformat": 4,
 "nbformat_minor": 2
}
