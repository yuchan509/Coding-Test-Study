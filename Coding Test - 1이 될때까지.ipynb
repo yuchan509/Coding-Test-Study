{
 "cells": [
  {
   "cell_type": "markdown",
   "metadata": {},
   "source": [
    "- 어떤 수 N이 1이 될 때까지 다음의 두 과정 중 하나를 반복적으로 선택하여 수행한다.\n",
    "- 단, 두번째 연산은 N이 K로 나누어 떨어질 때만 선택 가능하다.\n",
    "    - 1번. N - 1\n",
    "    - 2번. N / K , 나누어 떨어질 경우.(조건)\n",
    "- example\n",
    "    - N = 17, K = 4라고 가정. 1번의 과정을 수행하면 N = 16, 2번의 과정을 2번 수행시 N = 1 => 실행 횟수 = 3\n",
    "    - 2번의 과정을 수행하면 N = 5\n",
    "- N, K가 주어질 경우 N = 1이 될 때까지 1번, 2번의 과정을 수행해야 하는 최소 횟수 프로그램을 작성하시오."
   ]
  },
  {
   "cell_type": "code",
   "execution_count": 6,
   "metadata": {},
   "outputs": [],
   "source": [
    "def Cnt(N, K) :\n",
    "    cnt = 0\n",
    "    while True :\n",
    "        if N % K == 0 :\n",
    "            cnt += 1\n",
    "            N /= K\n",
    "        else :\n",
    "            cnt += 1\n",
    "            N -= 1\n",
    "        if N == 1:\n",
    "            break    \n",
    "    return cnt"
   ]
  },
  {
   "cell_type": "code",
   "execution_count": 8,
   "metadata": {},
   "outputs": [
    {
     "data": {
      "text/plain": [
       "6"
      ]
     },
     "execution_count": 8,
     "metadata": {},
     "output_type": "execute_result"
    }
   ],
   "source": [
    "N = 25\n",
    "K = 3\n",
    "Cnt(N, K)"
   ]
  }
 ],
 "metadata": {
  "kernelspec": {
   "display_name": "Python 3",
   "language": "python",
   "name": "python3"
  },
  "language_info": {
   "codemirror_mode": {
    "name": "ipython",
    "version": 3
   },
   "file_extension": ".py",
   "mimetype": "text/x-python",
   "name": "python",
   "nbconvert_exporter": "python",
   "pygments_lexer": "ipython3",
   "version": "3.7.6"
  }
 },
 "nbformat": 4,
 "nbformat_minor": 4
}
