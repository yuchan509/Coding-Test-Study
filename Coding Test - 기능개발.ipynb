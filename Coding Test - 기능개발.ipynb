{
 "cells": [
  {
   "cell_type": "markdown",
   "metadata": {},
   "source": [
    "- 프로그래머스 팀에서는 기능 개선 작업을 수행 중입니다. 각 기능은 진도가 100%일 때 서비스에 반영할 수 있습니다.\n",
    "- 또, 각 기능의 개발속도는 모두 다르기 때문에 뒤에 있는 기능이 앞에 있는 기능보다 먼저 개발될 수 있고, 이때 뒤에 있는 기능은 앞에 있는 기능이 배포될 때 함께 배포됩니다.\n",
    "- 먼저 배포되어야 하는 순서대로 작업의 진도가 적힌 정수 배열 progresses와 각 작업의 개발 속도가 적힌 정수 배열 speeds가 주어질 때 각 배포마다 몇 개의 기능이 배포되는지를 return 하도록 solution 함수를 완성하세요."
   ]
  },
  {
   "cell_type": "code",
   "execution_count": 1,
   "metadata": {},
   "outputs": [],
   "source": [
    "def solution(progresses, speeds) :\n",
    "    n_list = []\n",
    "    for i, j in zip(progresses, speeds) :     \n",
    "        n = 1\n",
    "        while True :\n",
    "            if (i + j * n) >= 100 :\n",
    "                n_list.append(n)\n",
    "                break\n",
    "            else :\n",
    "                n += 1\n",
    "    cnt = 1\n",
    "    cnt_list = []\n",
    "    while True :\n",
    "        if cnt != len(n_list) :\n",
    "            if max(n_list[0:cnt]) >= n_list[cnt] :\n",
    "                cnt += 1\n",
    "            else :\n",
    "                cnt_list.append(cnt)\n",
    "                for i in range(cnt) :\n",
    "                    n_list.pop(0)\n",
    "                cnt = 1\n",
    "        else :\n",
    "            cnt_list.append(cnt)\n",
    "            break\n",
    "    return cnt_list"
   ]
  },
  {
   "cell_type": "code",
   "execution_count": 2,
   "metadata": {},
   "outputs": [],
   "source": [
    "# [2, 1]\n",
    "# 입출력 예 #1\n",
    "# 첫 번째 기능은 93% 완료되어 있고 하루에 1%씩 작업이 가능하므로 7일간 작업 후 배포가 가능합니다.\n",
    "# 두 번째 기능은 30%가 완료되어 있고 하루에 30%씩 작업이 가능하므로 3일간 작업 후 배포가 가능합니다. \n",
    "# 하지만 이전 첫 번째 기능이 아직 완성된 상태가 아니기 때문에 첫 번째 기능이 배포되는 7일째 배포됩니다.\n",
    "# 세 번째 기능은 55%가 완료되어 있고 하루에 5%씩 작업이 가능하므로 9일간 작업 후 배포가 가능합니다.\n",
    "# 따라서 7일째에 2개의 기능, 9일째에 1개의 기능이 배포됩니다.\n",
    "progresses = [93, 30, 55]\n",
    "speeds = [1, 30, 5]\n",
    "solution(progresses, speeds)"
   ]
  },
  {
   "cell_type": "code",
   "execution_count": 3,
   "metadata": {},
   "outputs": [
    {
     "data": {
      "text/plain": [
       "[1, 3, 2]"
      ]
     },
     "execution_count": 3,
     "metadata": {},
     "output_type": "execute_result"
    }
   ],
   "source": [
    "# [1, 3, 2]\n",
    "# 모든 기능이 하루에 1%씩 작업이 가능하므로, 작업이 끝나기까지 남은 일수는 각각 5일, 10일, 1일, 1일, 20일, 1일입니다. \n",
    "# 어떤 기능이 먼저 완성되었더라도 앞에 있는 모든 기능이 완성되지 않으면 배포가 불가능합니다.\n",
    "# 따라서 5일째에 1개의 기능, 10일째에 3개의 기능, 20일째에 2개의 기능이 배포됩니다.\n",
    "progresses = [95, 90, 99, 99, 80, 99]\n",
    "speeds = [1, 1, 1, 1, 1, 1]\n",
    "solution(progresses, speeds)"
   ]
  },
  {
   "cell_type": "code",
   "execution_count": 4,
   "metadata": {},
   "outputs": [
    {
     "data": {
      "text/plain": [
       "[3]"
      ]
     },
     "execution_count": 4,
     "metadata": {},
     "output_type": "execute_result"
    }
   ],
   "source": [
    "# [3]\n",
    "progresses = [99, 99, 99] \n",
    "speeds = [1, 1, 1]\n",
    "solution(progresses, speeds)"
   ]
  },
  {
   "cell_type": "code",
   "execution_count": 5,
   "metadata": {},
   "outputs": [
    {
     "data": {
      "text/plain": [
       "[1, 2, 3]"
      ]
     },
     "execution_count": 5,
     "metadata": {},
     "output_type": "execute_result"
    }
   ],
   "source": [
    "# [1,2,3]\n",
    "progresses = [40, 93, 30, 55, 60, 65]\n",
    "speeds = [60, 1, 30, 5 , 10, 7]\n",
    "solution(progresses, speeds)"
   ]
  },
  {
   "cell_type": "code",
   "execution_count": 6,
   "metadata": {},
   "outputs": [
    {
     "data": {
      "text/plain": [
       "[2, 4]"
      ]
     },
     "execution_count": 6,
     "metadata": {},
     "output_type": "execute_result"
    }
   ],
   "source": [
    "# [2,4]\n",
    "progresses = [93, 30, 55, 60, 40, 65]\n",
    "speeds = [1, 30, 5 , 10, 60, 7]\n",
    "solution(progresses, speeds)"
   ]
  },
  {
   "cell_type": "code",
   "execution_count": null,
   "metadata": {},
   "outputs": [],
   "source": [
    "# 다른 사람 풀이1.\n",
    "def solution(progresses, speeds):\n",
    "    Q=[]\n",
    "    for p, s in zip(progresses, speeds):\n",
    "        if len(Q) == 0 or Q[-1][0]<-((p-100)//s) :\n",
    "            Q.append([-((p-100)//s),1])\n",
    "        else:\n",
    "            Q[-1][1] += 1\n",
    "    return [q[1] for q in Q]"
   ]
  },
  {
   "cell_type": "code",
   "execution_count": 7,
   "metadata": {},
   "outputs": [],
   "source": [
    "# 다른 사람 풀이2.\n",
    "def solution(progresses, speeds) :\n",
    "    answer = []\n",
    "    days   = 0\n",
    "    count  = 0\n",
    "\n",
    "    while len(progresses) != 0 :\n",
    "        if progresses[0] + days * speeds[0] >= 100 :\n",
    "            progresses.pop(0)\n",
    "            speeds.pop(0)\n",
    "            count += 1\n",
    "        else:\n",
    "            if count > 0:\n",
    "                answer.append(count)\n",
    "                count = 0 \n",
    "            days += 1    \n",
    "    answer.append(count)\n",
    "    return answer"
   ]
  }
 ],
 "metadata": {
  "kernelspec": {
   "display_name": "Python 3",
   "language": "python",
   "name": "python3"
  },
  "language_info": {
   "codemirror_mode": {
    "name": "ipython",
    "version": 3
   },
   "file_extension": ".py",
   "mimetype": "text/x-python",
   "name": "python",
   "nbconvert_exporter": "python",
   "pygments_lexer": "ipython3",
   "version": "3.7.3"
  }
 },
 "nbformat": 4,
 "nbformat_minor": 2
}
