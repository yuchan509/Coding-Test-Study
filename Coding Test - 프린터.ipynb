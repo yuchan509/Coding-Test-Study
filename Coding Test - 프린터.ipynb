{
 "cells": [
  {
   "cell_type": "markdown",
   "metadata": {},
   "source": [
    "- 1. 인쇄 대기목록의 가장 앞에 있는 문서(J)를 대기목록에서 꺼냅니다.\n",
    "- 2. 나머지 인쇄 대기목록에서 J보다 중요도가 높은 문서가 한 개라도 존재하면 J를 대기목록의 가장 마지막에 넣습니다.\n",
    "- 3. 그렇지 않으면 J를 인쇄합니다.\n",
    "---\n",
    "- 예를 들어, 4개의 문서(A, B, C, D)가 순서대로 인쇄 대기목록에 있고 중요도가 2 1 3 2 라면 C D A B 순으로 인쇄하게 됩니다.\n",
    "- 내가 인쇄를 요청한 문서가 몇 번째로 인쇄되는지 알고 싶습니다. 위의 예에서 C는 1번째로, A는 3번째로 인쇄됩니다.\n",
    "- 현재 대기목록에 있는 문서의 중요도가 순서대로 담긴 배열 priorities와 내가 인쇄를 요청한 문서가 현재 대기목록의 어떤 위치에 있는지를 알려주는 location이 매개변수로 주어질 때, 내가 인쇄를 요청한 문서가 몇 번째로 인쇄되는지 return 하도록 solution 함수를 작성해주세요."
   ]
  },
  {
   "cell_type": "code",
   "execution_count": 1,
   "metadata": {},
   "outputs": [],
   "source": [
    "def solution(priorities, location):\n",
    "    index_list = []\n",
    "    for i in range(len(priorities)) :\n",
    "        index_list.append(i)\n",
    "\n",
    "    n = 0\n",
    "    while True :\n",
    "        if priorities[n] < max(priorities[n+1:]) :\n",
    "            # pop(n)을 통해 n번째 인덱스 값 요소 꺼내고 리스트에 요소를 붙이기.\n",
    "            index_list.append(index_list.pop(n))\n",
    "            priorities.append(priorities.pop(n))\n",
    "        else :\n",
    "            n += 1\n",
    "        # 정렬된 결과와 같아지는 순간 스톱.\n",
    "        if priorities == sorted(priorities, reverse=True) :\n",
    "            break\n",
    "    answer = index_list.index(location) + 1\n",
    "    return answer"
   ]
  },
  {
   "cell_type": "code",
   "execution_count": 2,
   "metadata": {},
   "outputs": [
    {
     "data": {
      "text/plain": [
       "1"
      ]
     },
     "execution_count": 2,
     "metadata": {},
     "output_type": "execute_result"
    }
   ],
   "source": [
    "priorities = [2, 1, 3, 2]\n",
    "location = 2\n",
    "solution(priorities, location)"
   ]
  }
 ],
 "metadata": {
  "kernelspec": {
   "display_name": "Python 3",
   "language": "python",
   "name": "python3"
  },
  "language_info": {
   "codemirror_mode": {
    "name": "ipython",
    "version": 3
   },
   "file_extension": ".py",
   "mimetype": "text/x-python",
   "name": "python",
   "nbconvert_exporter": "python",
   "pygments_lexer": "ipython3",
   "version": "3.7.6"
  }
 },
 "nbformat": 4,
 "nbformat_minor": 4
}
