{
 "cells": [
  {
   "cell_type": "markdown",
   "id": "d184634a",
   "metadata": {},
   "source": [
    "- 다들 windows에서 지원하는 지뢰 찾기 게임을 한번쯤은 해 보았을 것이다. 특히 동호는 지뢰찾기의 매니아로 알려져 있다. 지뢰 찾기 map은 N*N의 정사각형 모양으로 각 칸에는 숫자가 들어가 있거나 지뢰가 들어가 있다. 빈 칸에는 숫자 0이 들어있다고 생각하자.\n",
    "\n",
    "- map의 어떤 칸에 적혀 있는 숫자는, 그 칸과 인접해 있는 여덟 개의 칸 중에서 지뢰가 들어 있는 칸이 몇 개인지를 나타내 준다. 물론 인접한 칸이 map 내부에 있는 경우에 대해서만 생각하면 된다. 예제를 보면 더 잘 이해할 수 있을 것이다.\n",
    "\n",
    "- 이번 문제는 조금 업그레이드 된 지뢰 찾기로, 한 칸에 한 개의 지뢰가 있는 것이 아니고, 한 칸에 여러 개(1 이상 9 이하)의 지뢰가 묻혀 있는 게임이다. 따라서 map의 어떤 칸에 적혀 있는 숫자는, 그 칸과 인접해 있는 여덟 개의 칸들에 들어 있는 지뢰의 총 개수가 된다.\n",
    "\n",
    "- 이미 windows 지뢰찾기 같은 것을 마스터한 영식이는, map에서 지뢰에 대한 정보만이 주어졌을 때, 영식이는 map을 완성하고 싶다고 한다. N과 지뢰의 위치가 주어졌을 때, 영식이를 도와서 지뢰 찾기 map을 완성하는 프로그램을 작성하시오.\n",
    "\n",
    "- 첫째 줄에 N(1≤N≤1,000)이 주어진다. 다음 N개의 줄에는 지뢰 찾기 map에 대한 정보가 주어지는데 '.' 또는 숫자로 이루어진 문자열이 들어온다. '.'는 지뢰가 없는 것이고 숫자는 지뢰가 있는 경우로 그 칸의 지뢰의 개수이다. 한 줄은 N개의 문자로 이루어져 있다.\n",
    "\n",
    "- N개의 줄에 걸쳐서 완성된 지뢰 찾기 map을 출력한다. 지뢰는 '*'로 출력하며. 10 이상인 경우는 'M'(Many)으로 출력하면 된다. map은 숫자 또는 'M' 또는 '*'로만 이루어져 있어야 한다."
   ]
  },
  {
   "cell_type": "code",
   "execution_count": null,
   "id": "8a87a7a6",
   "metadata": {},
   "outputs": [],
   "source": [
    "n,r,I=int(input()),range,-(1<<31)\n",
    "m=[[0]*n for i in r(n)]\n",
    "for i in r(n):\n",
    "    for j,v in enumerate(input()):\n",
    "        if v!='.':\n",
    "            m[i][j]=I\n",
    "            for x in r(i-1,i+2):\n",
    "                for y in r(j-1,j+2):\n",
    "                    if(0<=x<n)&(0<=y<n):m[x][y]+=int(v)              \n",
    "for i in r(n):print(''.join([[str(v),'M'][v>9],'*'][v<0]for v in m[i]))"
   ]
  },
  {
   "cell_type": "code",
   "execution_count": null,
   "id": "ceffeed3",
   "metadata": {},
   "outputs": [],
   "source": [
    "n = int(raw_input())\n",
    "map = []\n",
    "\n",
    "for i in range(0, n):\n",
    "  map.append(list(raw_input()))\n",
    "\n",
    "result = []\n",
    "for i in range(0, n):\n",
    "  row = []\n",
    "  for j in range(0, n):\n",
    "    if map[i][j] != '.':\n",
    "      row.append('*')\n",
    "    else:\n",
    "      count = 0\n",
    "      for y in range(i - 1, i + 2):\n",
    "        for x in range(j - 1, j + 2):\n",
    "          if 0 <= x and x < n and 0 <= y and y < n and map[y][x] != '.':\n",
    "            count += int(map[y][x])\n",
    "      if count > 9:\n",
    "        row.append('M')\n",
    "      else:\n",
    "        row.append(count)\n",
    "  result.append(row)\n",
    "\n",
    "for row in result:\n",
    "  print(''.join(str(a) for a in row))"
   ]
  },
  {
   "cell_type": "code",
   "execution_count": 6,
   "id": "1dbf3924",
   "metadata": {},
   "outputs": [
    {
     "data": {
      "text/plain": [
       "[[0, 0, 0, 0, 0],\n",
       " [0, 0, 0, 0, 0],\n",
       " [0, 0, 0, 0, 0],\n",
       " [0, 0, 0, 0, 0],\n",
       " [0, 0, 0, 0, 0]]"
      ]
     },
     "execution_count": 6,
     "metadata": {},
     "output_type": "execute_result"
    }
   ],
   "source": [
    "N = 5\n",
    "Map = [[0] * N for i in range(N)]\n",
    "for i in range(N) :\n",
    "    for idx, value in enumerate(input()) :\n",
    "        # 지뢰라면\n",
    "        if value != '.' : Map[i][idx]"
   ]
  },
  {
   "cell_type": "code",
   "execution_count": 10,
   "id": "d17226a0",
   "metadata": {},
   "outputs": [],
   "source": [
    "import numpy as np \n",
    "m = np.zeros((N, N))\n",
    "m[0][0] += 1"
   ]
  },
  {
   "cell_type": "code",
   "execution_count": 11,
   "id": "25d2bef7",
   "metadata": {},
   "outputs": [
    {
     "data": {
      "text/plain": [
       "array([[1., 0., 0., 0., 0.],\n",
       "       [0., 0., 0., 0., 0.],\n",
       "       [0., 0., 0., 0., 0.],\n",
       "       [0., 0., 0., 0., 0.],\n",
       "       [0., 0., 0., 0., 0.]])"
      ]
     },
     "execution_count": 11,
     "metadata": {},
     "output_type": "execute_result"
    }
   ],
   "source": [
    "m"
   ]
  }
 ],
 "metadata": {
  "kernelspec": {
   "display_name": "Python 3",
   "language": "python",
   "name": "python3"
  },
  "language_info": {
   "codemirror_mode": {
    "name": "ipython",
    "version": 3
   },
   "file_extension": ".py",
   "mimetype": "text/x-python",
   "name": "python",
   "nbconvert_exporter": "python",
   "pygments_lexer": "ipython3",
   "version": "3.8.8"
  }
 },
 "nbformat": 4,
 "nbformat_minor": 5
}
