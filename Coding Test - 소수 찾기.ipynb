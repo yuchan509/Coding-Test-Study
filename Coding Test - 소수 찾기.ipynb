{
 "cells": [
  {
   "cell_type": "markdown",
   "metadata": {},
   "source": [
    "- 한자리 숫자가 적힌 종이 조각이 흩어져있습니다. 흩어진 종이 조각을 붙여 소수를 몇 개 만들 수 있는지 알아내려 합니다.\n",
    "\n",
    "- 각 종이 조각에 적힌 숫자가 적힌 문자열 numbers가 주어졌을 때, 종이 조각으로 만들 수 있는 소수가 몇 개인지 return 하도록 solution 함수를 완성해주세요."
   ]
  },
  {
   "cell_type": "code",
   "execution_count": 1,
   "metadata": {},
   "outputs": [],
   "source": [
    "import itertools, time\n",
    "def solution(numbers) :\n",
    "    start = time.time()\n",
    "    res    = []\n",
    "    answer = set()\n",
    "    for n in range(1, len(numbers) + 1) :\n",
    "        for i in itertools.permutations(list(numbers), n) :\n",
    "            num = int(''.join(list(i)))\n",
    "            res.append(num)\n",
    "            b = 0\n",
    "            if num > 1 :\n",
    "                for s in range(2, list(res)[-1]) :\n",
    "                    if num % s == 0 :\n",
    "                        b = 1\n",
    "                if b == 0 :\n",
    "                    answer.add(num)\n",
    "    end = time.time()\n",
    "    print(f'걸린 시간 : {end - start}초')\n",
    "    return len(set(answer))"
   ]
  },
  {
   "cell_type": "code",
   "execution_count": 2,
   "metadata": {},
   "outputs": [],
   "source": [
    "import itertools, time\n",
    "def solution2(numbers) :\n",
    "    start = time.time()\n",
    "    res    = []\n",
    "    answer = set()\n",
    "    for n in range(1, len(numbers) + 1) :\n",
    "        for i in itertools.permutations(list(numbers), n) :\n",
    "            num = int(''.join(list(i)))\n",
    "            res.append(num)\n",
    "            b = 0\n",
    "            if num > 1 :\n",
    "                for s in range(2, num + 1) :\n",
    "                    if num % s == 0 and num != s :\n",
    "                        b = 1\n",
    "                if b == 0 :\n",
    "                    answer.add(num)\n",
    "    end = time.time()\n",
    "    print(f'걸린 시간 : {end - start}초')\n",
    "    return len(answer)"
   ]
  },
  {
   "cell_type": "code",
   "execution_count": 3,
   "metadata": {},
   "outputs": [],
   "source": [
    "def solution(numbers) :\n",
    "    res    = []\n",
    "    answer = 0\n",
    "    for n in range(len(numbers)) :\n",
    "        res += [int(''.join(i)) for i in list(itertools.permutations(list(numbers), n + 1))]\n",
    "\n",
    "    for num in set(res) :       \n",
    "        b = 0    \n",
    "        for s in range(1, num + 1) :\n",
    "            if num % s == 0 and num != 0 :\n",
    "                b += 1\n",
    "            if b >= 3 :\n",
    "                break\n",
    "        if b == 2 :\n",
    "            answer += 1\n",
    "    return answer"
   ]
  },
  {
   "cell_type": "code",
   "execution_count": 4,
   "metadata": {},
   "outputs": [
    {
     "name": "stdout",
     "output_type": "stream",
     "text": [
      "걸린 시간 : 0.0초\n"
     ]
    },
    {
     "data": {
      "text/plain": [
       "3"
      ]
     },
     "execution_count": 4,
     "metadata": {},
     "output_type": "execute_result"
    }
   ],
   "source": [
    "numbers = \"17\"\n",
    "solution(numbers)\n",
    "solution2(numbers)"
   ]
  },
  {
   "cell_type": "code",
   "execution_count": 5,
   "metadata": {},
   "outputs": [
    {
     "name": "stdout",
     "output_type": "stream",
     "text": [
      "걸린 시간 : 0.0초\n"
     ]
    },
    {
     "data": {
      "text/plain": [
       "2"
      ]
     },
     "execution_count": 5,
     "metadata": {},
     "output_type": "execute_result"
    }
   ],
   "source": [
    "numbers = \"011\"\n",
    "solution(numbers)\n",
    "solution2(numbers)"
   ]
  },
  {
   "cell_type": "code",
   "execution_count": 6,
   "metadata": {},
   "outputs": [
    {
     "name": "stdout",
     "output_type": "stream",
     "text": [
      "걸린 시간 : 0.0049860477447509766초\n"
     ]
    },
    {
     "data": {
      "text/plain": [
       "8"
      ]
     },
     "execution_count": 6,
     "metadata": {},
     "output_type": "execute_result"
    }
   ],
   "source": [
    "numbers = \"0147\"\n",
    "solution(numbers)\n",
    "solution2(numbers)"
   ]
  },
  {
   "cell_type": "code",
   "execution_count": 7,
   "metadata": {},
   "outputs": [
    {
     "name": "stdout",
     "output_type": "stream",
     "text": [
      "걸린 시간 : 0.18384695053100586초\n"
     ]
    },
    {
     "data": {
      "text/plain": [
       "53"
      ]
     },
     "execution_count": 7,
     "metadata": {},
     "output_type": "execute_result"
    }
   ],
   "source": [
    "numbers = \"01913\"\n",
    "solution(numbers)\n",
    "solution2(numbers)"
   ]
  }
 ],
 "metadata": {
  "kernelspec": {
   "display_name": "Python 3",
   "language": "python",
   "name": "python3"
  },
  "language_info": {
   "codemirror_mode": {
    "name": "ipython",
    "version": 3
   },
   "file_extension": ".py",
   "mimetype": "text/x-python",
   "name": "python",
   "nbconvert_exporter": "python",
   "pygments_lexer": "ipython3",
   "version": "3.7.6"
  }
 },
 "nbformat": 4,
 "nbformat_minor": 4
}
