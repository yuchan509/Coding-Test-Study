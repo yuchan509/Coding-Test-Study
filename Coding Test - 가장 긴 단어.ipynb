{
 "cells": [
  {
   "cell_type": "code",
   "execution_count": 1,
   "id": "91975fe1",
   "metadata": {},
   "outputs": [
    {
     "name": "stdout",
     "output_type": "stream",
     "text": [
      "ACM International Collegiate Programming Contest (abbreviated as\n",
      "ACM-ICPC or just ICPC) is an annual multi-tiered computer programming\n",
      "competition among the universities of the world. The contest is\n",
      "sponsored by IBM. Headquartered at Baylor University, with autonomous\n",
      "regions on six continents, the ICPC is directed by Baylor Professor\n",
      "William B. Poucher, Executive Director, and operates under the\n",
      "auspices of the Association for Computing Machinery (ACM).\n",
      "\n",
      "  The 2012 ACM-ICPC Asia Hatyai Regional Programming Contest is\n",
      "held during 15-16 November 2012. It is hosted by Prince of Songkla\n",
      "University, Hatyai campus. E-N-D\n",
      "international\n",
      "\n"
     ]
    }
   ],
   "source": [
    "import re\n",
    "s = ''\n",
    "while 1 :\n",
    "    try : s += ' ' + input() \n",
    "    except : break\n",
    "        \n",
    "s = [re.sub('[^a-zA-Z-]','', s) for s in s.split()]\n",
    "print(max(s, key=len).lower())\n",
    "# print([i for i in s if len(i) == max([len(i) for i in s])][0].lower())"
   ]
  }
 ],
 "metadata": {
  "kernelspec": {
   "display_name": "Python 3",
   "language": "python",
   "name": "python3"
  },
  "language_info": {
   "codemirror_mode": {
    "name": "ipython",
    "version": 3
   },
   "file_extension": ".py",
   "mimetype": "text/x-python",
   "name": "python",
   "nbconvert_exporter": "python",
   "pygments_lexer": "ipython3",
   "version": "3.8.8"
  }
 },
 "nbformat": 4,
 "nbformat_minor": 5
}
