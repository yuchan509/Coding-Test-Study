{
 "cells": [
  {
   "cell_type": "markdown",
   "id": "77c37bef",
   "metadata": {},
   "source": [
    "- 최백준이 이번 학기에 들은 과목과 학점 그리고 성적이 주어졌을 때, 평균 평점을 계산하는 프로그램을 작성하시오.\n",
    "- 성적은 A+~F까지 총 13개가 있다.\n",
    "\n",
    "    - A+: 4.3, A0: 4.0, A-: 3.7\n",
    "\n",
    "    - B+: 3.3, B0: 3.0, B-: 2.7\n",
    "\n",
    "    - C+: 2.3, C0: 2.0, C-: 1.7\n",
    "\n",
    "    - D+: 1.3, D0: 1.0, D-: 0.7\n",
    "\n",
    "    - F: 0.0\n",
    "\n",
    " - 평균 평점은 각 과목의 학점*성적을 모두 더한 뒤에, 총 학점으로 나누면 된다.\n",
    "    \n",
    " - 첫째 줄에, 백준이가 이번 학기에 들은 과목 수가 주어진다. 둘째 줄부터 N개의 줄에 각 과목의 과목명, 학점, 성적이 주어진다. 과목명은 알파벳 소문자와 숫자, 그리고 밑줄 (_)로만 이루어져 있으며, 최대 100글자이고, 학점은 1보다 크거나 같고, 3보다 작거나 같은 자연수이다. 성적은 문제에 설명한 13가지 중 하나이다. \n",
    " - 첫째 줄에 평균 평점을 소수점 셋째 자리에서 반올림해서 둘째 자리까지 출력한다. (평균 평점이 1.5이면 1.50을 출력한다.)"
   ]
  },
  {
   "cell_type": "code",
   "execution_count": 1,
   "id": "c3fc154b",
   "metadata": {},
   "outputs": [
    {
     "name": "stdout",
     "output_type": "stream",
     "text": [
      "7\n",
      "General_Physics_1 3 A+\n",
      "Introduction_to_Computer_Science_and_Eng 3 B0\n",
      "Reading_And_Writing 2 C0\n",
      "English_1 3 C+\n",
      "Analytic_Geometry_and_Calculus_1 3 B+\n",
      "Fortran_Programming 3 B+\n",
      "C_Language_Programming 3 A+\n",
      "3.28\n"
     ]
    }
   ],
   "source": [
    "a = ['A+', 'A0', 'A-', 'B+', 'B0', 'B-', 'C+', 'C0', 'C-', 'D+', 'D0', 'D-', 'F']\n",
    "b = [4.3, 4, 3.7, 3.3, 3, 2.7, 2.3, 2, 1.7, 1.3, 1, 0.7, 0]\n",
    "dic = {i : j for i, j in zip(a, b)}\n",
    "\n",
    "n, t = 0, 0.00001\n",
    "for _ in range(int(input())) :\n",
    "    s = input().split()\n",
    "    n += int(s[-2])\n",
    "    t += dic[s[-1]] * float(s[-2])\n",
    "    \n",
    "print('%.2f' % (t/n))"
   ]
  }
 ],
 "metadata": {
  "kernelspec": {
   "display_name": "Python 3",
   "language": "python",
   "name": "python3"
  },
  "language_info": {
   "codemirror_mode": {
    "name": "ipython",
    "version": 3
   },
   "file_extension": ".py",
   "mimetype": "text/x-python",
   "name": "python",
   "nbconvert_exporter": "python",
   "pygments_lexer": "ipython3",
   "version": "3.8.8"
  }
 },
 "nbformat": 4,
 "nbformat_minor": 5
}
