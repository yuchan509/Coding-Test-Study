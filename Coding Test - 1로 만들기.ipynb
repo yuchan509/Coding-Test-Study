{
 "cells": [
  {
   "cell_type": "markdown",
   "metadata": {},
   "source": [
    "- 정수 X에 사용할 수 있는 연산은 다음과 같이 세 가지 이다.\n",
    "\n",
    "- X가 3으로 나누어 떨어지면, 3으로 나눈다.\n",
    "- X가 2로 나누어 떨어지면, 2로 나눈다.\n",
    "- 1을 뺀다.\n",
    "- 정수 N이 주어졌을 때, 위와 같은 연산 세 개를 적절히 사용해서 1을 만들려고 한다. 연산을 사용하는 횟수의 최솟값을 출력하시오."
   ]
  },
  {
   "cell_type": "markdown",
   "metadata": {},
   "source": [
    "|0|1|2|3|4|5|6|7|8|9|10|\n",
    "|--|--|--|--|--|--|--|--|--|--|--|\n",
    "|0|0|1|1|2|3|2|3|3|2|3|"
   ]
  },
  {
   "cell_type": "code",
   "execution_count": 1,
   "metadata": {},
   "outputs": [
    {
     "name": "stdout",
     "output_type": "stream",
     "text": [
      "10\n",
      "3\n"
     ]
    }
   ],
   "source": [
    "# 동적 프로그래밍 문제.\n",
    "x  = int(input()) + 1\n",
    "dp = [0] * x\n",
    "\n",
    "# 0과 1은 어차피 0이므로 고려할 필요가 없으니, 2부터 시작.\n",
    "for i in range(2, x) :\n",
    "    # 예를 들어, dp[2] : 2로 나누거나, -1을 뺴서 1을 만들 수가 있으므로 dp[2] = dp[1] + 1(2->1 로 만들기 위한 횟수)\n",
    "    # 예를 들어, dp[3] : 2로는 불가능하고, -1부터 뺴고 시작하면 횟수가 2회, 3으로 나누면 시행 횟수 1회.\n",
    "    # =>  dp[3] = dp[2] + 1 = 2, dp[3] = dp[3 // 3 + 1] = dp[2] = 1 중의 최솟값을 선택해야함.\n",
    "    # .... 이와 같은 과정을 x번째 까지 반복하고, 각 단계마다 해당 인덱스 배열에 담고 x번째의 배열 값을 찾으면 됨. \n",
    "    dp[i] = dp[i-1] + 1 \n",
    "    if i % 3 == 0 : dp[i] = min(dp[i], dp[i // 3] + 1)\n",
    "    if i % 2 == 0 : dp[i] = min(dp[i], dp[i // 2] + 1)\n",
    "print(dp[x - 1])"
   ]
  }
 ],
 "metadata": {
  "kernelspec": {
   "display_name": "PyTorch",
   "language": "python",
   "name": "pytorch"
  },
  "language_info": {
   "codemirror_mode": {
    "name": "ipython",
    "version": 3
   },
   "file_extension": ".py",
   "mimetype": "text/x-python",
   "name": "python",
   "nbconvert_exporter": "python",
   "pygments_lexer": "ipython3",
   "version": "3.7.10"
  }
 },
 "nbformat": 4,
 "nbformat_minor": 4
}
