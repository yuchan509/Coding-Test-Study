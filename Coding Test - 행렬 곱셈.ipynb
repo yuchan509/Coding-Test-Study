{
 "cells": [
  {
   "cell_type": "markdown",
   "id": "e524bd46",
   "metadata": {},
   "source": [
    "- N*M크기의 행렬 A와 M*K크기의 행렬 B가 주어졌을 때, 두 행렬을 곱하는 프로그램을 작성하시오.\n",
    "- 첫째 줄에 행렬 A의 크기 N 과 M이 주어진다. 둘째 줄부터 N개의 줄에 행렬 A의 원소 M개가 순서대로 주어진다. \n",
    "- 그 다음 줄에는 행렬 B의 크기 M과 K가 주어진다. 이어서 M개의 줄에 행렬 B의 원소 K개가 차례대로 주어진다. N과 M, 그리고 K는 100보다 작거나 같고, 행렬의 원소는 절댓값이 100보다 작거나 같은 정수이다.\n",
    "- 첫째 줄부터 N개의 줄에 행렬 A와 B를 곱한 행렬을 출력한다. 행렬의 각 원소는 공백으로 구분한다."
   ]
  },
  {
   "cell_type": "code",
   "execution_count": 14,
   "id": "5b75364f",
   "metadata": {},
   "outputs": [
    {
     "name": "stdout",
     "output_type": "stream",
     "text": [
      "3 2\n",
      "1 2 3 4 5 6\n",
      "2 3\n",
      "-1 -2 0 0 0 3\n",
      "-1 -2 6\n",
      "-3 -6 12\n",
      "-5 -10 18\n"
     ]
    }
   ],
   "source": [
    "import numpy as np\n",
    "N, M = map(int, input().split())\n",
    "a = np.array(list(map(int, input().split()))).reshape(N,M)\n",
    "\n",
    "M, K = map(int, input().split())\n",
    "b = np.array(list(map(int, input().split()))).reshape(M,K)\n",
    "\n",
    "ab = []\n",
    "for i in np.matmul(a, b) :\n",
    "    for j in i :\n",
    "        ab += [j]\n",
    "for x, y in enumerate(ab, 1) :\n",
    "    print(f'{y}', end = '\\n' if x % K == 0 else ' ')"
   ]
  }
 ],
 "metadata": {
  "kernelspec": {
   "display_name": "Python 3",
   "language": "python",
   "name": "python3"
  },
  "language_info": {
   "codemirror_mode": {
    "name": "ipython",
    "version": 3
   },
   "file_extension": ".py",
   "mimetype": "text/x-python",
   "name": "python",
   "nbconvert_exporter": "python",
   "pygments_lexer": "ipython3",
   "version": "3.8.8"
  }
 },
 "nbformat": 4,
 "nbformat_minor": 5
}
