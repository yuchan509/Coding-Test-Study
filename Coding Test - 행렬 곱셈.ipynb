{
 "cells": [
  {
   "cell_type": "markdown",
   "id": "3035a516",
   "metadata": {},
   "source": [
    "- N*M크기의 행렬 A와 M*K크기의 행렬 B가 주어졌을 때, 두 행렬을 곱하는 프로그램을 작성하시오.\n",
    "- 첫째 줄에 행렬 A의 크기 N 과 M이 주어진다. 둘째 줄부터 N개의 줄에 행렬 A의 원소 M개가 순서대로 주어진다. 그 다음 줄에는 행렬 B의 크기 M과 K가 주어진다. 이어서 M개의 줄에 행렬 B의 원소 K개가 차례대로 주어진다. N과 M, 그리고 K는 100보다 작거나 같고, 행렬의 원소는 절댓값이 100보다 작거나 같은 정수이다.\n",
    "- 첫째 줄부터 N개의 줄에 행렬 A와 B를 곱한 행렬을 출력한다. 행렬의 각 원소는 공백으로 구분한다."
   ]
  },
  {
   "cell_type": "code",
   "execution_count": 1,
   "id": "e88ff4c3",
   "metadata": {},
   "outputs": [
    {
     "name": "stdout",
     "output_type": "stream",
     "text": [
      "3 2\n",
      "1 2\n",
      "3 4\n",
      "5 6\n",
      "2 3\n",
      "-1 -2 0\n",
      "0 0 3\n",
      "-1 -2 6\n",
      "-3 -6 12\n",
      "-5 -10 18\n"
     ]
    }
   ],
   "source": [
    "# 백준에서 numpy 사용이 불가능 한듯. \n",
    "import numpy as np\n",
    "\n",
    "def fn(): return map(int, input().split())\n",
    "n, m = fn(); a = [list(fn()) for _ in range(n)]\n",
    "m, k = fn(); b = [list(fn()) for _ in range(m)]\n",
    "\n",
    "a = np.array(a).reshape(n, m)\n",
    "b = np.array(b).reshape(m, k)\n",
    "\n",
    "ab = []\n",
    "for i in np.matmul(a, b) :\n",
    "    for j in i :\n",
    "        ab += [j]\n",
    "        \n",
    "for x, y in enumerate(ab, 1) :\n",
    "    print(f'{y}', end = '\\n' if x % k == 0 else ' ')"
   ]
  },
  {
   "cell_type": "code",
   "execution_count": 2,
   "id": "bfe99ce5",
   "metadata": {},
   "outputs": [
    {
     "name": "stdout",
     "output_type": "stream",
     "text": [
      "3 2\n",
      "1 2\n",
      "3 4\n",
      "5 6\n",
      "2 3\n",
      "-1 -2 0\n",
      "0 0 3\n",
      "-1 -2 6\n",
      "-3 -6 12\n",
      "-5 -10 18\n"
     ]
    }
   ],
   "source": [
    "# 다른 접근 방식의 해결법.\n",
    "def fn(): return map(int, input().split())\n",
    "n, m = fn(); a = [list(fn()) for _ in range(n)]\n",
    "m, k = fn(); b = [list(fn()) for _ in range(m)]\n",
    "\n",
    "# n X m m X k = n X k => 3 X 2 2 X 3 = 3 X 3\n",
    "# i * j 값을 k개씩 구하여 합한 값. zip(*b)를 통해 ar의 값과 동일한 shape 형성하여 계산.\n",
    "ab = [[sum(i * j for i, j in zip(ar, bc)) for bc in zip(*b)] for ar in a] \n",
    "for i in ab : print(*i)"
   ]
  }
 ],
 "metadata": {
  "kernelspec": {
   "display_name": "Python 3",
   "language": "python",
   "name": "python3"
  },
  "language_info": {
   "codemirror_mode": {
    "name": "ipython",
    "version": 3
   },
   "file_extension": ".py",
   "mimetype": "text/x-python",
   "name": "python",
   "nbconvert_exporter": "python",
   "pygments_lexer": "ipython3",
   "version": "3.8.8"
  }
 },
 "nbformat": 4,
 "nbformat_minor": 5
}
