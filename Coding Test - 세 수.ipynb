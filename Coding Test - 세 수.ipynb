{
 "cells": [
  {
   "cell_type": "markdown",
   "id": "5910cb8f",
   "metadata": {},
   "source": [
    "- 수학을 못해도 너무 못하는 상근이는 정인이에게 과외를 받고 있다. 오늘은 상근이가 사칙연산을 배우는 날이다.\n",
    "\n",
    "- 정인이는 공책에 숫자 세개로 이루어진 등식을 적어주었다. (식은 자연수와 등호(=), 그리고 더하기, 빼기, 곱하기, 나누기 기호(+-*/)로 이루어져 있다)\n",
    "\n",
    "- 상근이는 이런 등식을 사칙연산을 모르는 창영이게 자랑하다가 그만... 창영이는 숫자를 제외한 기호를 모두 지워버리고 말았다.\n",
    "\n",
    "- 세 정수가 주어졌을 때, 원래 정인이가 적어준 등식을 구하는 프로그램을 작성하시오.\n",
    "\n",
    "- 첫째 줄에 정인이가 원래 적어준 등식을 출력한다. 입력으로 주어진 숫자의 순서는 유지해야 하고, 등호 하나와 더하기, 빼기, 곱하기, 나누기 기호 중 하나로 이루어져 있어야 한다. 만약 등식이 여러 가지가 나올 수 있다면, 그 중 하나만 출력한다."
   ]
  },
  {
   "cell_type": "code",
   "execution_count": 1,
   "id": "5436a19a",
   "metadata": {},
   "outputs": [
    {
     "name": "stdout",
     "output_type": "stream",
     "text": [
      "3 5 8\n",
      "3+5=8\n"
     ]
    }
   ],
   "source": [
    "x, y, z = input().split()\n",
    "for i in '+-*/' :\n",
    "    exec('case1=' + x + '==' + y + i + z)\n",
    "    exec('case2=' + z + '==' + x + i + y)\n",
    "    if case1 : print(f'{x}={y}{i}{z}')\n",
    "    if case2 : print(f'{x}{i}{y}={z}')"
   ]
  }
 ],
 "metadata": {
  "kernelspec": {
   "display_name": "Python 3",
   "language": "python",
   "name": "python3"
  },
  "language_info": {
   "codemirror_mode": {
    "name": "ipython",
    "version": 3
   },
   "file_extension": ".py",
   "mimetype": "text/x-python",
   "name": "python",
   "nbconvert_exporter": "python",
   "pygments_lexer": "ipython3",
   "version": "3.8.8"
  }
 },
 "nbformat": 4,
 "nbformat_minor": 5
}
