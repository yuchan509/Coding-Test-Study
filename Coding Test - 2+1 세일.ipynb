{
 "cells": [
  {
   "cell_type": "markdown",
   "id": "4ea9007b",
   "metadata": {},
   "source": [
    "- 2 + 1 세일 형태로 유제품을 팔고 있다.\n",
    "- 3개를 살 경우 -> 가장 싼 것을 무료 처리.\n",
    "- 3개를 한 번에 사지 않을 경우 -> 정가 지불 처리.\n",
    "\n",
    "- 예를 들어, 7개의 유제품이 존재. - > 제품 가격 = 10, 9, 4, 2, 6, 4, 3\n",
    "- (10, 3, 2), (4, 6, 4), (9)로 3번에 걸쳐 물건을 살 경우 -> 13, 10, 9\n",
    "- N팩의 유제품 구입 -> 최소비용을 찾아라."
   ]
  },
  {
   "cell_type": "code",
   "execution_count": 1,
   "id": "dec91848",
   "metadata": {},
   "outputs": [
    {
     "name": "stdout",
     "output_type": "stream",
     "text": [
      "4\n",
      "3\n",
      "2\n",
      "3\n",
      "2\n",
      "8\n"
     ]
    }
   ],
   "source": [
    "N = int(input())\n",
    "arr = [int(input()) for _ in range(N)]\n",
    "arr.sort(reverse = True)\n",
    "answer = 0\n",
    "for i, j in enumerate(arr) :\n",
    "    if i % 3 != 2 :\n",
    "        answer += j\n",
    "print(answer)"
   ]
  }
 ],
 "metadata": {
  "kernelspec": {
   "display_name": "Python 3 (ipykernel)",
   "language": "python",
   "name": "python3"
  },
  "language_info": {
   "codemirror_mode": {
    "name": "ipython",
    "version": 3
   },
   "file_extension": ".py",
   "mimetype": "text/x-python",
   "name": "python",
   "nbconvert_exporter": "python",
   "pygments_lexer": "ipython3",
   "version": "3.9.7"
  }
 },
 "nbformat": 4,
 "nbformat_minor": 5
}
