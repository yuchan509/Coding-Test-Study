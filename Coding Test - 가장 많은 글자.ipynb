{
 "cells": [
  {
   "cell_type": "markdown",
   "metadata": {},
   "source": [
    "- 영어에서는 어떤 글자가 다른 글자보다 많이 쓰인다. 예를 들어, 긴 글에서 약 12.31% 글자는 e이다.\n",
    "\n",
    "- 어떤 글이 주어졌을 때, 가장 많이 나온 글자를 출력하는 프로그램을 작성하시오.\n",
    "- 첫째 줄부터 글의 문장이 주어진다. 글은 최대 5000글자로 구성되어 있고, 공백, 알파벳 소문자, 엔터로만 이루어져 있다. 그리고 적어도 하나의 알파벳이 있다."
   ]
  },
  {
   "cell_type": "code",
   "execution_count": 1,
   "metadata": {},
   "outputs": [
    {
     "name": "stdout",
     "output_type": "stream",
     "text": [
      "a\n"
     ]
    }
   ],
   "source": [
    "text = '''english is a west germanic\n",
    "        language originating in england\n",
    "        and is the first language for\n",
    "        most people in the united\n",
    "        kingdom the united states\n",
    "        canada australia new zealand\n",
    "        ireland and the anglophone\n",
    "        caribbean it is used\n",
    "        extensively as a second\n",
    "        language and as an official\n",
    "        language throughout the world\n",
    "        especially in common wealth\n",
    "        countries and in many\n",
    "        international organizations'''\n",
    "\n",
    "\n",
    "from collections import Counter\n",
    "\n",
    "# 백준 테스트시 입력값을 받아오긴 위한 작업.\n",
    "text = ''\n",
    "while True :\n",
    "    try :\n",
    "        text += input()\n",
    "    except :\n",
    "        break\n",
    "        \n",
    "# 받아온 텍스트의 줄바꿈 및 공백을 모두 제거.\n",
    "new_text = text.replace(\"\\n\", \"\").replace(' ','')\n",
    "\n",
    "# Counter 함수를 이용하여 각 알파벳의 개수 계산.\n",
    "# 반복문을 돌려서 딕셔너리의 값이 가장 큰 값과 일치하는 key값을 반환한 뒤, 정렬시키고 리스트를 다시 공백이 없는 문자열로 변환하여 출력.\n",
    "print(''.join(sorted([j for j, i in Counter(new_text).items() if max(Counter(new_text).values()) == i])))"
   ]
  },
  {
   "cell_type": "code",
   "execution_count": 2,
   "metadata": {},
   "outputs": [
    {
     "name": "stdout",
     "output_type": "stream",
     "text": [
      "eno\n"
     ]
    }
   ],
   "source": [
    "text     = 'baekjoon online judge'\n",
    "new_text = text.replace(\"\\n\", \"\").replace(' ','')\n",
    "print(''.join(sorted([j for j, i in Counter(new_text).items() if max(Counter(new_text).values()) == i])))"
   ]
  }
 ],
 "metadata": {
  "kernelspec": {
   "display_name": "PyTorch",
   "language": "python",
   "name": "pytorch"
  },
  "language_info": {
   "codemirror_mode": {
    "name": "ipython",
    "version": 3
   },
   "file_extension": ".py",
   "mimetype": "text/x-python",
   "name": "python",
   "nbconvert_exporter": "python",
   "pygments_lexer": "ipython3",
   "version": "3.7.10"
  }
 },
 "nbformat": 4,
 "nbformat_minor": 4
}
