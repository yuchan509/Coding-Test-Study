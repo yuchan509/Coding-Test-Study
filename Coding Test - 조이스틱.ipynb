{
 "cells": [
  {
   "cell_type": "code",
   "execution_count": 15,
   "id": "10aa57f5",
   "metadata": {},
   "outputs": [
    {
     "data": {
      "text/plain": [
       "25"
      ]
     },
     "execution_count": 15,
     "metadata": {},
     "output_type": "execute_result"
    }
   ],
   "source": [
    "ord(\"Z\") - ord(\"A\")"
   ]
  },
  {
   "cell_type": "code",
   "execution_count": 16,
   "id": "36627dc5",
   "metadata": {},
   "outputs": [
    {
     "data": {
      "text/plain": [
       "65"
      ]
     },
     "execution_count": 16,
     "metadata": {},
     "output_type": "execute_result"
    }
   ],
   "source": [
    "ord(\"A\")"
   ]
  },
  {
   "cell_type": "code",
   "execution_count": 10,
   "id": "b053c681",
   "metadata": {},
   "outputs": [],
   "source": [
    "cnt = 0 \n",
    "cnt += ord(\"J\") - ord(\"A\")"
   ]
  },
  {
   "cell_type": "code",
   "execution_count": 12,
   "id": "d9039ab3",
   "metadata": {},
   "outputs": [
    {
     "name": "stdout",
     "output_type": "stream",
     "text": [
      "J\n",
      "A\n",
      "Z\n"
     ]
    }
   ],
   "source": [
    "for i in name :\n",
    "    if i != \"A\" :\n",
    "        ord(i) - ord(\"A\")\n",
    "    else :\n",
    "        "
   ]
  },
  {
   "cell_type": "code",
   "execution_count": 47,
   "id": "31df50b4",
   "metadata": {},
   "outputs": [
    {
     "data": {
      "text/plain": [
       "1"
      ]
     },
     "execution_count": 47,
     "metadata": {},
     "output_type": "execute_result"
    }
   ],
   "source": [
    "min(1, 3)"
   ]
  },
  {
   "cell_type": "code",
   "execution_count": 46,
   "id": "72b98300",
   "metadata": {},
   "outputs": [],
   "source": [
    "answer = 0\n",
    "for alphabet in name :\n",
    "    if ord(alphabet) < ord('N') :\n",
    "        answer += ord(alphabet) - ord('A')\n",
    "    else :   \n",
    "        answer += ord('N') - ord(alphabet) + 13\n",
    "        \n",
    "    idx = 1\n",
    "    while name[idx] == 'A' & idx < len(name) :\n",
    "        idx += 1\n",
    "        \n",
    "    answer += min(len(name) - 1, 2 * idx + len(name) -idx)\n",
    "    \n",
    "        \n",
    "\n",
    "\n"
   ]
  },
  {
   "cell_type": "code",
   "execution_count": 44,
   "id": "8b6edd81",
   "metadata": {},
   "outputs": [
    {
     "data": {
      "text/plain": [
       "13"
      ]
     },
     "execution_count": 44,
     "metadata": {},
     "output_type": "execute_result"
    }
   ],
   "source": [
    "# 죄 <-> 우 이동이 둘 다 있는 있는 경우. (연속된 A가 존재하는 경우.)\n",
    "if 'A' not in name :\n",
    "    \n",
    "    \n",
    "# 좌 -> 우(우 -> 좌)로만 방향 전환없이 이동하는 경우. : len(name) - 1 회    \n",
    "else :\n",
    "    answer += len(name) - 1"
   ]
  },
  {
   "cell_type": "code",
   "execution_count": null,
   "id": "adb5a6a4",
   "metadata": {},
   "outputs": [],
   "source": []
  }
 ],
 "metadata": {
  "kernelspec": {
   "display_name": "Python 3 (ipykernel)",
   "language": "python",
   "name": "python3"
  },
  "language_info": {
   "codemirror_mode": {
    "name": "ipython",
    "version": 3
   },
   "file_extension": ".py",
   "mimetype": "text/x-python",
   "name": "python",
   "nbconvert_exporter": "python",
   "pygments_lexer": "ipython3",
   "version": "3.9.7"
  }
 },
 "nbformat": 4,
 "nbformat_minor": 5
}
