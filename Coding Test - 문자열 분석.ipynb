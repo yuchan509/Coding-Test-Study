{
 "cells": [
  {
   "cell_type": "markdown",
   "id": "fa55fa6f",
   "metadata": {},
   "source": [
    "- 문자열 N개가 주어진다. 이때, 문자열에 포함되어 있는 소문자, 대문자, 숫자, 공백의 개수를 구하는 프로그램을 작성하시오.\n",
    "\n",
    "- 각 문자열은 알파벳 소문자, 대문자, 숫자, 공백으로만 이루어져 있다.\n",
    "- 첫째 줄부터 N번째 줄까지 각각의 문자열에 대해서 소문자, 대문자, 숫자, 공백의 개수를 공백으로 구분해 출력한다."
   ]
  },
  {
   "cell_type": "code",
   "execution_count": 1,
   "id": "70d0a749",
   "metadata": {},
   "outputs": [
    {
     "name": "stdout",
     "output_type": "stream",
     "text": [
      "This is String\n",
      "10 2 0 2\n",
      "SPACE    1    SPACE\n",
      "0 10 1 8\n",
      " S a M p L e I n P u T\n",
      "5 6 0 11\n",
      "0L1A2S3T4L5I6N7E8\n",
      "0 8 9 0\n",
      "\n"
     ]
    }
   ],
   "source": [
    "import re\n",
    "while 1 :\n",
    "    try :\n",
    "        s = input()\n",
    "        L = len(re.findall('[a-z]', s))\n",
    "        U = len(re.findall('[A-Z]', s))\n",
    "        N = len(re.findall('[0-9]', s))\n",
    "        S = list(s).count(' ')\n",
    "        print(L, U, N, S)\n",
    "    except : break"
   ]
  }
 ],
 "metadata": {
  "kernelspec": {
   "display_name": "Python 3",
   "language": "python",
   "name": "python3"
  },
  "language_info": {
   "codemirror_mode": {
    "name": "ipython",
    "version": 3
   },
   "file_extension": ".py",
   "mimetype": "text/x-python",
   "name": "python",
   "nbconvert_exporter": "python",
   "pygments_lexer": "ipython3",
   "version": "3.8.8"
  }
 },
 "nbformat": 4,
 "nbformat_minor": 5
}
