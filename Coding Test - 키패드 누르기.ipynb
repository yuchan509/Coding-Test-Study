{
 "cells": [
  {
   "cell_type": "markdown",
   "metadata": {},
   "source": [
    "|nu| mb|er|\n",
    "| :---: | :---:| :---:|\n",
    "|1|2|3|\n",
    "|4|5|6|\n",
    "|7|8|9|\n",
    "|*|0|#|"
   ]
  },
  {
   "cell_type": "code",
   "execution_count": 1,
   "metadata": {},
   "outputs": [],
   "source": [
    "def dist(hand, num) :\n",
    "    position = { 1 : (0, 0), 2 : (0, 1), 3 : (0, 2),\n",
    "                 4 : (1, 0), 5 : (1, 1), 6 : (1, 2),\n",
    "                 7 : (2, 0), 8 : (2, 1), 9 : (2, 2),\n",
    "                 10 : (3, 0), 11 : (3, 1), 12 : (3, 2)\n",
    "                }\n",
    "    a, b = position[num]\n",
    "    c, d = position[hand]\n",
    "    dist = abs(a - c) + abs(b - d)\n",
    "    return dist\n",
    "\n",
    "def solution(numbers, hand):\n",
    "    answer = ''\n",
    "    hand   = hand\n",
    "    L_List = [10]\n",
    "    R_List = [12]\n",
    "\n",
    "    for num in numbers :\n",
    "        if any([1 == num, 4 == num, 7 == num]) :\n",
    "            L_List.append(num)\n",
    "            answer += 'L'\n",
    "        elif any([3 == num, 6 == num, 9 == num]) :\n",
    "            R_List.append(num)\n",
    "            answer += 'R'\n",
    "        else :\n",
    "            num = 11 if num == 0 else num\n",
    "\n",
    "            if dist(L_List[-1], num) < dist(R_List[-1], num) :\n",
    "                L_List.append(num)\n",
    "                answer += 'L'\n",
    "\n",
    "            elif dist(L_List[-1], num) > dist(R_List[-1], num) :\n",
    "                R_List.append(num)\n",
    "                answer += 'R'\n",
    "            else : \n",
    "                if hand == 'left' :\n",
    "                    L_List.append(num)\n",
    "                    answer += 'L'\n",
    "                else : \n",
    "                    R_List.append(num)\n",
    "                    answer += 'R'              \n",
    "    return answer"
   ]
  },
  {
   "cell_type": "code",
   "execution_count": 2,
   "metadata": {},
   "outputs": [
    {
     "data": {
      "text/plain": [
       "'LRLLLRLLRRL'"
      ]
     },
     "execution_count": 2,
     "metadata": {},
     "output_type": "execute_result"
    }
   ],
   "source": [
    "# \"LRLLLRLLRRL\"\n",
    "numbers = [1, 3, 4, 5, 8, 2, 1, 4, 5, 9, 5]\n",
    "hand    = 'right'\n",
    "solution(numbers, hand)"
   ]
  },
  {
   "cell_type": "code",
   "execution_count": 3,
   "metadata": {},
   "outputs": [
    {
     "data": {
      "text/plain": [
       "'LRLLRRLLLRR'"
      ]
     },
     "execution_count": 3,
     "metadata": {},
     "output_type": "execute_result"
    }
   ],
   "source": [
    "# \"LRLLRRLLLRR\"\n",
    "numbers = [7, 0, 8, 2, 8, 3, 1, 5, 7, 6, 2]\n",
    "hand    = 'left'\n",
    "solution(numbers, hand)"
   ]
  },
  {
   "cell_type": "code",
   "execution_count": 4,
   "metadata": {},
   "outputs": [
    {
     "data": {
      "text/plain": [
       "'LLRLLRLLRL'"
      ]
     },
     "execution_count": 4,
     "metadata": {},
     "output_type": "execute_result"
    }
   ],
   "source": [
    "# \"LLRLLRLLRL\"\n",
    "numbers = [1, 2, 3, 4, 5, 6, 7, 8, 9, 0]\n",
    "hand    = 'right'\n",
    "solution(numbers, hand)"
   ]
  }
 ],
 "metadata": {
  "kernelspec": {
   "display_name": "Python 3",
   "language": "python",
   "name": "python3"
  },
  "language_info": {
   "codemirror_mode": {
    "name": "ipython",
    "version": 3
   },
   "file_extension": ".py",
   "mimetype": "text/x-python",
   "name": "python",
   "nbconvert_exporter": "python",
   "pygments_lexer": "ipython3",
   "version": "3.7.6"
  }
 },
 "nbformat": 4,
 "nbformat_minor": 4
}
