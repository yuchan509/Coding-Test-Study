{
 "cells": [
  {
   "cell_type": "markdown",
   "metadata": {},
   "source": [
    "- 채팅방에 들어오고 나가거나, 닉네임을 변경한 기록이 담긴 문자열 배열 record가 매개변수로 주어질 때, 모든 기록이 처리된 후, 최종적으로 방을 개설한 사람이 보게 되는 메시지를 문자열 배열 형태로 return 하도록 solution 함수를 완성하라."
   ]
  },
  {
   "cell_type": "code",
   "execution_count": 1,
   "metadata": {},
   "outputs": [],
   "source": [
    "def solution(record) :\n",
    "    # { key : value for 원소 in 반복 가능한 객체 if문 } => 마지막으로 업데이트된 이름만을 저장.\n",
    "    Update = {i.split()[1] : i.split()[-1] for i in record if i.split()[0] == \"Enter\" or i.split()[0] == \"Change\"}        \n",
    "    \n",
    "    # 결과값을 담을 리스트 생성.\n",
    "    Answer = []\n",
    "    for i in record :\n",
    "        j = i.split()\n",
    "        \n",
    "        # Enter와 Leave만을 고려, Update라는 딕셔너리.get(key값) = key에 해당되는 Value를 가져오며, f string 이용.\n",
    "        if j[0] == \"Enter\" :\n",
    "            Answer.append(f'{Update.get(j[1])}님이 들어왔습니다.')\n",
    "        elif j[0] == \"Leave\" :\n",
    "            Answer.append(f'{Update.get(j[1])}님이 나갔습니다.')\n",
    "    return Answer"
   ]
  },
  {
   "cell_type": "code",
   "execution_count": 3,
   "metadata": {},
   "outputs": [
    {
     "data": {
      "text/plain": [
       "['Prodo님이 들어왔습니다.', 'Ryan님이 들어왔습니다.', 'Prodo님이 나갔습니다.', 'Prodo님이 들어왔습니다.']"
      ]
     },
     "execution_count": 3,
     "metadata": {},
     "output_type": "execute_result"
    }
   ],
   "source": [
    "# [\"Prodo님이 들어왔습니다.\", \"Ryan님이 들어왔습니다.\", \"Prodo님이 나갔습니다.\", \"Prodo님이 들어왔습니다.\"]\n",
    "record = [\"Enter uid1234 Muzi\", \"Enter uid4567 Prodo\",\"Leave uid1234\",\"Enter uid1234 Prodo\",\"Change uid4567 Ryan\"]\n",
    "solution(record)"
   ]
  }
 ],
 "metadata": {
  "kernelspec": {
   "display_name": "Python 3",
   "language": "python",
   "name": "python3"
  },
  "language_info": {
   "codemirror_mode": {
    "name": "ipython",
    "version": 3
   },
   "file_extension": ".py",
   "mimetype": "text/x-python",
   "name": "python",
   "nbconvert_exporter": "python",
   "pygments_lexer": "ipython3",
   "version": "3.7.3"
  }
 },
 "nbformat": 4,
 "nbformat_minor": 2
}
