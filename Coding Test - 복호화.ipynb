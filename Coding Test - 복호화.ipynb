{
 "cells": [
  {
   "cell_type": "markdown",
   "id": "dcc5b99e",
   "metadata": {},
   "source": [
    "- 암호학에서 치환 암호(substitution cipher)란, 평문에 들어있는 각각의 문자를 주어진 치환 방법으로 암호화하는 방법 중 하나다.\n",
    "\n",
    "- 가장 단순한 방법은 평문의 알파벳을 암호문의 알파벳으로 대치시켜 치환시키는 것이다.\n",
    "\n",
    "- 예를 들어, 아래와 같은 알파벳 대치표가 주어졌다고 하자.\n",
    "\n",
    "    -평문 알파벳 대치표 : abcdefghijklmnopqrstuvwxyz\n",
    "    -암호문 알파벳 대치표 : wghuvijxpqrstacdebfklmnoyz\n",
    "- 위에 주어진 치환 방법을 통해 암호화하면 평문 \"hello there\"은 \"xvssc kxvbv\"가 된다.\n",
    "\n",
    "- 한 가지 흥미로운 점은 영어 문법 특성상, 알파벳 'e'가 다른 영문 알파벳에 비해 자주 쓰인다는 것이다.\n",
    "\n",
    "- 즉, 암호문 알파벳 대치표 없이 암호문을 복호화하려 할 때, 암호문 알파벳 빈도수를 체크하면 암호문 알파벳 빈도수 중 가장 빈번하게 나타나는 알파벳이 'e'라는 사실을 유추해볼 수 있다.\n",
    "\n",
    "- 위 방법으로 암호문 알파벳의 빈도수를 체크하고, 가장 빈번하게 나타나는 문자를 출력하는 프로그램을 작성하면 된다.\n",
    "\n",
    "- 만약 주어진 암호문에서 가장 빈번하게 나타나는 문자가 여러 개일 경우, 그 빈번한 문자 중 어느 것이 평문 알파벳 'e'를 가리키는지 확실하게 알 수 없기 때문에 \"모르겠음\"을 의미하는 '?'를 출력하면 된다.\n",
    "- 각각의 테스트 케이스에 대해, 가장 빈번하게 나타나는 문자를 출력하거나 빈번하게 나타나는 문자가 여러 개일 경우 '?'를 출력한다."
   ]
  },
  {
   "cell_type": "code",
   "execution_count": 1,
   "id": "6e217a43",
   "metadata": {},
   "outputs": [
    {
     "name": "stdout",
     "output_type": "stream",
     "text": [
      "3\n",
      "asvdge ef ofmdofn\n",
      "f\n",
      "xvssc kxvbv\n",
      "v\n",
      "hull full suua pmlu\n",
      "?\n"
     ]
    }
   ],
   "source": [
    "from collections import *\n",
    "\n",
    "for _ in range(int(input())) :\n",
    "    a = Counter(input().replace(' ', ''))\n",
    "    print('?') if len([i for i, j in a.items() if max(a.values()) == j]) > 1 else print(max(a, key=a.get))"
   ]
  }
 ],
 "metadata": {
  "kernelspec": {
   "display_name": "Python 3",
   "language": "python",
   "name": "python3"
  },
  "language_info": {
   "codemirror_mode": {
    "name": "ipython",
    "version": 3
   },
   "file_extension": ".py",
   "mimetype": "text/x-python",
   "name": "python",
   "nbconvert_exporter": "python",
   "pygments_lexer": "ipython3",
   "version": "3.8.8"
  }
 },
 "nbformat": 4,
 "nbformat_minor": 5
}
