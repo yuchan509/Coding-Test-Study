{
 "cells": [
  {
   "cell_type": "markdown",
   "metadata": {},
   "source": [
    "- 자연수 n 개로 이루어진 중복 집합(multi set, 편의상 이후에는 \"집합\"으로 통칭) 중에 다음 두 조건을 만족하는 집합을 최고의 집합이라고 합니다.\n",
    "\n",
    "- 각 원소의 합이 S가 되는 수의 집합\n",
    "- 위 조건을 만족하면서 각 원소의 곱 이 최대가 되는 집합\n",
    "- 예를 들어서 자연수 2개로 이루어진 집합 중 합이 9가 되는 집합은 다음과 같이 4개가 있습니다.\n",
    "- { 1, 8 }, { 2, 7 }, { 3, 6 }, { 4, 5 }\n",
    "- 그중 각 원소의 곱이 최대인 { 4, 5 }가 최고의 집합입니다.\n",
    "\n",
    "- 집합의 원소의 개수 n과 모든 원소들의 합 s가 매개변수로 주어질 때, 최고의 집합을 return 하는 solution 함수를 완성해주세요.\n",
    "- 최고의 집합은 오름차순으로 정렬된 1차원 배열(list, vector) 로 return 해주세요."
   ]
  },
  {
   "cell_type": "code",
   "execution_count": 1,
   "metadata": {},
   "outputs": [],
   "source": [
    "# 시간초과인 코드.\n",
    "from itertools import combinations_with_replacement\n",
    "def solution(n, s) :\n",
    "    List = list(range(1, s))\n",
    "    a = [i[0] * i[1] for i in  combinations_with_replacement(List, 2) if sum(i) == s]\n",
    "    b = [i for i in combinations_with_replacement(List, 2) if sum(i) == s]\n",
    "    if a == [] :\n",
    "        return [-1]\n",
    "    else :\n",
    "        return list(b[a.index(max(a))])"
   ]
  },
  {
   "cell_type": "code",
   "execution_count": 2,
   "metadata": {},
   "outputs": [],
   "source": [
    "# 곱이 가장 큰 합을 도출하기 위해 모두 공평하게 나눈 값에서 나머지를 각각 1씩 더해주는 것이 아이디어.\n",
    "def solution(n, s) :\n",
    "    p, q = divmod(s, n)\n",
    "    answer = [p] * n\n",
    "    for i in range(q) :\n",
    "        answer[i] += 1\n",
    "    if n > s : return [-1]\n",
    "    else : return sorted(answer)"
   ]
  },
  {
   "cell_type": "code",
   "execution_count": 3,
   "metadata": {},
   "outputs": [
    {
     "data": {
      "text/plain": [
       "[4, 5]"
      ]
     },
     "execution_count": 3,
     "metadata": {},
     "output_type": "execute_result"
    }
   ],
   "source": [
    "# [4, 5]\n",
    "n = 2\n",
    "s = 9\n",
    "solution(n, s)"
   ]
  },
  {
   "cell_type": "code",
   "execution_count": 4,
   "metadata": {},
   "outputs": [
    {
     "data": {
      "text/plain": [
       "[-1]"
      ]
     },
     "execution_count": 4,
     "metadata": {},
     "output_type": "execute_result"
    }
   ],
   "source": [
    "# [-1]\n",
    "n = 2\n",
    "s = 1\n",
    "solution(n, s)"
   ]
  },
  {
   "cell_type": "code",
   "execution_count": 5,
   "metadata": {},
   "outputs": [
    {
     "data": {
      "text/plain": [
       "[4, 4]"
      ]
     },
     "execution_count": 5,
     "metadata": {},
     "output_type": "execute_result"
    }
   ],
   "source": [
    "# [4, 4]\n",
    "n = 2\n",
    "s = 8\n",
    "solution(n, s)"
   ]
  }
 ],
 "metadata": {
  "kernelspec": {
   "display_name": "Python 3",
   "language": "python",
   "name": "python3"
  },
  "language_info": {
   "codemirror_mode": {
    "name": "ipython",
    "version": 3
   },
   "file_extension": ".py",
   "mimetype": "text/x-python",
   "name": "python",
   "nbconvert_exporter": "python",
   "pygments_lexer": "ipython3",
   "version": "3.7.3"
  }
 },
 "nbformat": 4,
 "nbformat_minor": 2
}
