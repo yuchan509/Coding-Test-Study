{
 "cells": [
  {
   "cell_type": "markdown",
   "metadata": {},
   "source": [
    "- 1번부터 번호 순서대로 한 사람씩 차례대로 단어를 말합니다.\n",
    "- 마지막 사람이 단어를 말한 다음에는 다시 1번부터 시작합니다.\n",
    "- 앞사람이 말한 단어의 마지막 문자로 시작하는 단어를 말해야 합니다.\n",
    "- 이전에 등장했던 단어는 사용할 수 없습니다.\n",
    "- 한 글자인 단어는 인정되지 않습니다.\n",
    "\n",
    "- tank → kick → know → wheel → land → dream → mother → robot → tank\n",
    "- 끝말잇기를 계속 진행해 나가다 보면, 3번 사람이 자신의 세 번째 차례에 말한 tank 라는 단어는 이전에 등장했던 단어이므로 탈락하게 됩니다.\n",
    "\n",
    "- 사람의 수 n과 사람들이 순서대로 말한 단어 words 가 매개변수로 주어질 때, 가장 먼저 탈락하는 사람의 번호와 그 사람이 자신의 몇 번째 차례에 탈락하는지를 구해서 [ 번호, 차례 ]를 return 하도록 solution 함수를 완성해주세요.\n",
    "- 만약 주어진 단어들로 탈락자가 생기지 않는다면, [0, 0]을 return 해주세요."
   ]
  },
  {
   "cell_type": "code",
   "execution_count": 17,
   "metadata": {},
   "outputs": [
    {
     "ename": "IndentationError",
     "evalue": "expected an indented block (<ipython-input-17-e4739e331da0>, line 22)",
     "output_type": "error",
     "traceback": [
      "\u001b[1;36m  File \u001b[1;32m\"<ipython-input-17-e4739e331da0>\"\u001b[1;36m, line \u001b[1;32m22\u001b[0m\n\u001b[1;33m    return [dic[idx] + 1, math.ceil((idx + 1) / n)]\u001b[0m\n\u001b[1;37m    ^\u001b[0m\n\u001b[1;31mIndentationError\u001b[0m\u001b[1;31m:\u001b[0m expected an indented block\n"
     ]
    }
   ],
   "source": [
    "import math\n",
    "def solution(n, words) :       \n",
    "    dic = []\n",
    "    for i, j in enumerate(words) :\n",
    "        for k in range(n) :\n",
    "            if i % n == k :\n",
    "                dic.append(k)\n",
    "    idx = 0 \n",
    "    while True :\n",
    "        if words[idx][-1] == words[idx + 1][0] :\n",
    "            if any([w in words[idx] for w in words[:idx]]) :\n",
    "                idx += 1\n",
    "                break\n",
    "            else :\n",
    "                idx += 1\n",
    "        else :\n",
    "            break\n",
    "        if idx == len(words) -1 :\n",
    "            if any(w in words[idx][-5:] for w in words[:idx]) :\n",
    "                break\n",
    "            else :\n",
    "                re\n",
    "    return [dic[idx] + 1, math.ceil((idx + 1) / n)]"
   ]
  },
  {
   "cell_type": "code",
   "execution_count": null,
   "metadata": {},
   "outputs": [],
   "source": []
  },
  {
   "cell_type": "code",
   "execution_count": 8,
   "metadata": {},
   "outputs": [
    {
     "ename": "NameError",
     "evalue": "name 'solution' is not defined",
     "output_type": "error",
     "traceback": [
      "\u001b[1;31m---------------------------------------------------------------------------\u001b[0m",
      "\u001b[1;31mNameError\u001b[0m                                 Traceback (most recent call last)",
      "\u001b[1;32m<ipython-input-8-a3258a981d0a>\u001b[0m in \u001b[0;36m<module>\u001b[1;34m\u001b[0m\n\u001b[0;32m      2\u001b[0m \u001b[0mn\u001b[0m \u001b[1;33m=\u001b[0m \u001b[1;36m2\u001b[0m\u001b[1;33m\u001b[0m\u001b[1;33m\u001b[0m\u001b[0m\n\u001b[0;32m      3\u001b[0m \u001b[0mwords\u001b[0m \u001b[1;33m=\u001b[0m \u001b[1;33m[\u001b[0m\u001b[1;34m\"hello\"\u001b[0m\u001b[1;33m,\u001b[0m \u001b[1;34m\"one\"\u001b[0m\u001b[1;33m,\u001b[0m \u001b[1;34m\"even\"\u001b[0m\u001b[1;33m,\u001b[0m \u001b[1;34m\"never\"\u001b[0m\u001b[1;33m,\u001b[0m \u001b[1;34m\"now\"\u001b[0m\u001b[1;33m,\u001b[0m \u001b[1;34m\"world\"\u001b[0m\u001b[1;33m,\u001b[0m \u001b[1;34m\"draw\"\u001b[0m\u001b[1;33m]\u001b[0m\u001b[1;33m\u001b[0m\u001b[1;33m\u001b[0m\u001b[0m\n\u001b[1;32m----> 4\u001b[1;33m \u001b[0msolution\u001b[0m\u001b[1;33m(\u001b[0m\u001b[0mn\u001b[0m\u001b[1;33m,\u001b[0m \u001b[0mwords\u001b[0m\u001b[1;33m)\u001b[0m\u001b[1;33m\u001b[0m\u001b[1;33m\u001b[0m\u001b[0m\n\u001b[0m",
      "\u001b[1;31mNameError\u001b[0m: name 'solution' is not defined"
     ]
    }
   ],
   "source": [
    "# [1, 3]\n",
    "n = 2\n",
    "words = [\"hello\", \"one\", \"even\", \"never\", \"now\", \"world\", \"draw\"]\n",
    "solution(n, words)"
   ]
  },
  {
   "cell_type": "code",
   "execution_count": 4,
   "metadata": {},
   "outputs": [
    {
     "ename": "NameError",
     "evalue": "name 'solution' is not defined",
     "output_type": "error",
     "traceback": [
      "\u001b[1;31m---------------------------------------------------------------------------\u001b[0m",
      "\u001b[1;31mNameError\u001b[0m                                 Traceback (most recent call last)",
      "\u001b[1;32m<ipython-input-4-4609028c6b17>\u001b[0m in \u001b[0;36m<module>\u001b[1;34m\u001b[0m\n\u001b[0;32m      3\u001b[0m words = [\"hello\", \"observe\", \"effect\", \"take\", \"either\", \"recognize\", \"encourage\", \n\u001b[0;32m      4\u001b[0m          \"ensure\", \"establish\", \"hang\", \"gather\", \"refer\", \"reference\", \"estimate\", \"executive\"]\n\u001b[1;32m----> 5\u001b[1;33m \u001b[0msolution\u001b[0m\u001b[1;33m(\u001b[0m\u001b[0mn\u001b[0m\u001b[1;33m,\u001b[0m \u001b[0mwords\u001b[0m\u001b[1;33m)\u001b[0m\u001b[1;33m\u001b[0m\u001b[1;33m\u001b[0m\u001b[0m\n\u001b[0m",
      "\u001b[1;31mNameError\u001b[0m: name 'solution' is not defined"
     ]
    }
   ],
   "source": [
    "# [0,0]\n",
    "n = 5\n",
    "words = [\"hello\", \"observe\", \"effect\", \"take\", \"either\", \"recognize\", \"encourage\", \n",
    "         \"ensure\", \"establish\", \"hang\", \"gather\", \"refer\", \"reference\", \"estimate\", \"executive\"]\n",
    "solution(n, words)"
   ]
  },
  {
   "cell_type": "code",
   "execution_count": 5,
   "metadata": {},
   "outputs": [
    {
     "ename": "NameError",
     "evalue": "name 'solution' is not defined",
     "output_type": "error",
     "traceback": [
      "\u001b[1;31m---------------------------------------------------------------------------\u001b[0m",
      "\u001b[1;31mNameError\u001b[0m                                 Traceback (most recent call last)",
      "\u001b[1;32m<ipython-input-5-821b404cff7b>\u001b[0m in \u001b[0;36m<module>\u001b[1;34m\u001b[0m\n\u001b[0;32m      2\u001b[0m \u001b[0mn\u001b[0m \u001b[1;33m=\u001b[0m \u001b[1;36m3\u001b[0m\u001b[1;33m\u001b[0m\u001b[1;33m\u001b[0m\u001b[0m\n\u001b[0;32m      3\u001b[0m \u001b[0mwords\u001b[0m \u001b[1;33m=\u001b[0m \u001b[1;33m[\u001b[0m\u001b[1;34m\"tank\"\u001b[0m\u001b[1;33m,\u001b[0m \u001b[1;34m\"kick\"\u001b[0m\u001b[1;33m,\u001b[0m \u001b[1;34m\"know\"\u001b[0m\u001b[1;33m,\u001b[0m \u001b[1;34m\"wheel\"\u001b[0m\u001b[1;33m,\u001b[0m \u001b[1;34m\"land\"\u001b[0m\u001b[1;33m,\u001b[0m \u001b[1;34m\"dream\"\u001b[0m\u001b[1;33m,\u001b[0m \u001b[1;34m\"mother\"\u001b[0m\u001b[1;33m,\u001b[0m \u001b[1;34m\"robot\"\u001b[0m\u001b[1;33m,\u001b[0m \u001b[1;34m\"tank\"\u001b[0m\u001b[1;33m]\u001b[0m\u001b[1;33m\u001b[0m\u001b[1;33m\u001b[0m\u001b[0m\n\u001b[1;32m----> 4\u001b[1;33m \u001b[0msolution\u001b[0m\u001b[1;33m(\u001b[0m\u001b[0mn\u001b[0m\u001b[1;33m,\u001b[0m \u001b[0mwords\u001b[0m\u001b[1;33m)\u001b[0m\u001b[1;33m\u001b[0m\u001b[1;33m\u001b[0m\u001b[0m\n\u001b[0m",
      "\u001b[1;31mNameError\u001b[0m: name 'solution' is not defined"
     ]
    }
   ],
   "source": [
    "# [3, 3]\n",
    "n = 3\n",
    "words = [\"tank\", \"kick\", \"know\", \"wheel\", \"land\", \"dream\", \"mother\", \"robot\", \"tank\"]\n",
    "solution(n, words)"
   ]
  },
  {
   "cell_type": "code",
   "execution_count": 6,
   "metadata": {},
   "outputs": [
    {
     "ename": "NameError",
     "evalue": "name 'solution' is not defined",
     "output_type": "error",
     "traceback": [
      "\u001b[1;31m---------------------------------------------------------------------------\u001b[0m",
      "\u001b[1;31mNameError\u001b[0m                                 Traceback (most recent call last)",
      "\u001b[1;32m<ipython-input-6-530b28abc916>\u001b[0m in \u001b[0;36m<module>\u001b[1;34m\u001b[0m\n\u001b[0;32m      2\u001b[0m \u001b[0mn\u001b[0m \u001b[1;33m=\u001b[0m \u001b[1;36m2\u001b[0m\u001b[1;33m\u001b[0m\u001b[1;33m\u001b[0m\u001b[0m\n\u001b[0;32m      3\u001b[0m \u001b[0mwords\u001b[0m \u001b[1;33m=\u001b[0m \u001b[1;33m[\u001b[0m\u001b[1;34m\"land\"\u001b[0m\u001b[1;33m,\u001b[0m \u001b[1;34m\"dream\"\u001b[0m\u001b[1;33m,\u001b[0m \u001b[1;34m\"mom\"\u001b[0m\u001b[1;33m,\u001b[0m \u001b[1;34m\"mom\"\u001b[0m\u001b[1;33m]\u001b[0m\u001b[1;33m\u001b[0m\u001b[1;33m\u001b[0m\u001b[0m\n\u001b[1;32m----> 4\u001b[1;33m \u001b[0msolution\u001b[0m\u001b[1;33m(\u001b[0m\u001b[0mn\u001b[0m\u001b[1;33m,\u001b[0m \u001b[0mwords\u001b[0m\u001b[1;33m)\u001b[0m\u001b[1;33m\u001b[0m\u001b[1;33m\u001b[0m\u001b[0m\n\u001b[0m",
      "\u001b[1;31mNameError\u001b[0m: name 'solution' is not defined"
     ]
    }
   ],
   "source": [
    "# [2,2]\n",
    "n = 2\n",
    "words = [\"land\", \"dream\", \"mom\", \"mom\"]\n",
    "solution(n, words)"
   ]
  },
  {
   "cell_type": "code",
   "execution_count": 7,
   "metadata": {},
   "outputs": [
    {
     "data": {
      "text/plain": [
       "[2, 2]"
      ]
     },
     "execution_count": 7,
     "metadata": {},
     "output_type": "execute_result"
    }
   ],
   "source": [
    "# [2,2]\n",
    "n = 2\n",
    "words = [\"land\", \"dream\", \"mom\", \"mom\", 'ror']\n",
    "solution(n, words)"
   ]
  },
  {
   "cell_type": "code",
   "execution_count": 15,
   "metadata": {},
   "outputs": [
    {
     "ename": "NameError",
     "evalue": "name 'solution' is not defined",
     "output_type": "error",
     "traceback": [
      "\u001b[1;31m---------------------------------------------------------------------------\u001b[0m",
      "\u001b[1;31mNameError\u001b[0m                                 Traceback (most recent call last)",
      "\u001b[1;32m<ipython-input-15-0b99e2abd67b>\u001b[0m in \u001b[0;36m<module>\u001b[1;34m\u001b[0m\n\u001b[0;32m      2\u001b[0m \u001b[0mn\u001b[0m \u001b[1;33m=\u001b[0m \u001b[1;36m2\u001b[0m\u001b[1;33m\u001b[0m\u001b[1;33m\u001b[0m\u001b[0m\n\u001b[0;32m      3\u001b[0m \u001b[0mwords\u001b[0m \u001b[1;33m=\u001b[0m \u001b[1;33m[\u001b[0m\u001b[1;34m'qwe'\u001b[0m\u001b[1;33m,\u001b[0m \u001b[1;34m'eqwe'\u001b[0m\u001b[1;33m,\u001b[0m \u001b[1;34m'eqwe'\u001b[0m\u001b[1;33m]\u001b[0m\u001b[1;33m\u001b[0m\u001b[1;33m\u001b[0m\u001b[0m\n\u001b[1;32m----> 4\u001b[1;33m \u001b[0msolution\u001b[0m\u001b[1;33m(\u001b[0m\u001b[0mn\u001b[0m\u001b[1;33m,\u001b[0m \u001b[0mwords\u001b[0m\u001b[1;33m)\u001b[0m\u001b[1;33m\u001b[0m\u001b[1;33m\u001b[0m\u001b[0m\n\u001b[0m",
      "\u001b[1;31mNameError\u001b[0m: name 'solution' is not defined"
     ]
    }
   ],
   "source": [
    "# [1, 2]\n",
    "n = 2\n",
    "words = ['qwe', 'eqwe', 'eqwe'] \n",
    "solution(n, words)"
   ]
  },
  {
   "cell_type": "code",
   "execution_count": 16,
   "metadata": {},
   "outputs": [
    {
     "data": {
      "text/plain": [
       "[1, 2]"
      ]
     },
     "execution_count": 16,
     "metadata": {},
     "output_type": "execute_result"
    }
   ],
   "source": [
    "import math\n",
    "\n",
    "dic = []\n",
    "for i, j in enumerate(words) :\n",
    "    for k in range(n) :\n",
    "        if i % n == k :\n",
    "            dic.append(k)\n",
    "\n",
    "idx = 0 \n",
    "while True :\n",
    "    # 끝말잇기가 된다면,\n",
    "    if words[idx][-1] == words[idx + 1][0] :\n",
    "        if any([w in words[idx] for w in words[:idx]]) :\n",
    "            idx += 1\n",
    "            break\n",
    "\n",
    "\n",
    "        # 하나도 겹치는게 없으면 계속 진행.\n",
    "        else :\n",
    "            idx += 1\n",
    "    # 끝말잇기가 안된다면,\n",
    "    else :\n",
    "        break\n",
    "    if idx == len(words) -1 :\n",
    "        break\n",
    "        if any(w in words[idx][:-5] for w in words[:idx]) :\n",
    "            break\n",
    "        # \n",
    "        else :\n",
    "            print([0,0])\n",
    "\n",
    "[dic[idx] + 1, math.ceil((idx + 1) / n)]"
   ]
  },
  {
   "cell_type": "code",
   "execution_count": 13,
   "metadata": {},
   "outputs": [
    {
     "data": {
      "text/plain": [
       "[False, False, False]"
      ]
     },
     "execution_count": 13,
     "metadata": {},
     "output_type": "execute_result"
    }
   ],
   "source": []
  },
  {
   "cell_type": "code",
   "execution_count": 10,
   "metadata": {},
   "outputs": [
    {
     "data": {
      "text/plain": [
       "3.0"
      ]
     },
     "execution_count": 10,
     "metadata": {},
     "output_type": "execute_result"
    }
   ],
   "source": [
    "9 / 3"
   ]
  },
  {
   "cell_type": "code",
   "execution_count": null,
   "metadata": {},
   "outputs": [],
   "source": []
  }
 ],
 "metadata": {
  "kernelspec": {
   "display_name": "Python 3",
   "language": "python",
   "name": "python3"
  },
  "language_info": {
   "codemirror_mode": {
    "name": "ipython",
    "version": 3
   },
   "file_extension": ".py",
   "mimetype": "text/x-python",
   "name": "python",
   "nbconvert_exporter": "python",
   "pygments_lexer": "ipython3",
   "version": "3.7.3"
  }
 },
 "nbformat": 4,
 "nbformat_minor": 2
}
