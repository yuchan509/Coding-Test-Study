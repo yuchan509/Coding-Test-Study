{
 "cells": [
  {
   "cell_type": "code",
   "execution_count": 1,
   "id": "67e50187",
   "metadata": {},
   "outputs": [],
   "source": [
    "def solution(n, times) :\n",
    "    answer = 0\n",
    "    min_time = 1\n",
    "    max_time = n * max(times)\n",
    "\n",
    "    while min_time <= max_time :\n",
    "\n",
    "        mid = (min_time + max_time) // 2\n",
    "\n",
    "        people = 0\n",
    "        for time in times :\n",
    "            people += mid // time\n",
    "            if people >= n : \n",
    "                break\n",
    "                \n",
    "        if n <= people :\n",
    "            answer = mid\n",
    "            max_time = mid - 1\n",
    "        \n",
    "        else :\n",
    "            min_time = mid + 1\n",
    "            \n",
    "    return answer"
   ]
  },
  {
   "cell_type": "code",
   "execution_count": 2,
   "id": "5f1ac039",
   "metadata": {},
   "outputs": [
    {
     "data": {
      "text/plain": [
       "28"
      ]
     },
     "execution_count": 2,
     "metadata": {},
     "output_type": "execute_result"
    }
   ],
   "source": [
    "n = 6\n",
    "times = [7, 10]\n",
    "solution(n, times)"
   ]
  }
 ],
 "metadata": {
  "kernelspec": {
   "display_name": "Python 3 (ipykernel)",
   "language": "python",
   "name": "python3"
  },
  "language_info": {
   "codemirror_mode": {
    "name": "ipython",
    "version": 3
   },
   "file_extension": ".py",
   "mimetype": "text/x-python",
   "name": "python",
   "nbconvert_exporter": "python",
   "pygments_lexer": "ipython3",
   "version": "3.9.7"
  }
 },
 "nbformat": 4,
 "nbformat_minor": 5
}
